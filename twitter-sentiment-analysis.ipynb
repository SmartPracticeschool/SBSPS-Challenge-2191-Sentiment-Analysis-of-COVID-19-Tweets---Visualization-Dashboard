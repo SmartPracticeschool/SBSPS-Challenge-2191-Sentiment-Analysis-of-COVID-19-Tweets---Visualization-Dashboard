{
 "cells": [
  {
   "cell_type": "markdown",
   "metadata": {
    "_uuid": "92b885dd147dac19bd0a33db3cd0da100bd5bc23"
   },
   "source": [
    "# Twitter Sentiment Analysis"
   ]
  },
  {
   "cell_type": "code",
   "execution_count": 1,
   "metadata": {
    "_uuid": "70282bce8b42a51e4d44f2c7d85c4ca9567b0fd4"
   },
   "outputs": [
    {
     "name": "stdout",
     "output_type": "stream",
     "text": [
      "Collecting gensim\n",
      "  Downloading gensim-3.8.3-cp37-cp37m-manylinux1_x86_64.whl (24.2 MB)\n",
      "\u001b[K     |████████████████████████████████| 24.2 MB 1.8 MB/s eta 0:00:01\n",
      "\u001b[?25hCollecting smart-open>=1.8.1\n",
      "  Downloading smart_open-2.1.0.tar.gz (116 kB)\n",
      "\u001b[K     |████████████████████████████████| 116 kB 1.7 MB/s eta 0:00:01\n",
      "\u001b[?25hRequirement already satisfied, skipping upgrade: numpy>=1.11.3 in /home/sajjanakash18/anaconda3/lib/python3.7/site-packages (from gensim) (1.18.5)\n",
      "Requirement already satisfied, skipping upgrade: six>=1.5.0 in /home/sajjanakash18/anaconda3/lib/python3.7/site-packages (from gensim) (1.15.0)\n",
      "Requirement already satisfied, skipping upgrade: scipy>=0.18.1 in /home/sajjanakash18/anaconda3/lib/python3.7/site-packages (from gensim) (1.5.0)\n",
      "Requirement already satisfied, skipping upgrade: requests in /home/sajjanakash18/anaconda3/lib/python3.7/site-packages (from smart-open>=1.8.1->gensim) (2.24.0)\n",
      "Requirement already satisfied, skipping upgrade: boto in /home/sajjanakash18/anaconda3/lib/python3.7/site-packages (from smart-open>=1.8.1->gensim) (2.49.0)\n",
      "Collecting boto3\n",
      "  Downloading boto3-1.14.20-py2.py3-none-any.whl (128 kB)\n",
      "\u001b[K     |████████████████████████████████| 128 kB 745 kB/s eta 0:00:01\n",
      "\u001b[?25hRequirement already satisfied, skipping upgrade: chardet<4,>=3.0.2 in /home/sajjanakash18/anaconda3/lib/python3.7/site-packages (from requests->smart-open>=1.8.1->gensim) (3.0.4)\n",
      "Requirement already satisfied, skipping upgrade: idna<3,>=2.5 in /home/sajjanakash18/anaconda3/lib/python3.7/site-packages (from requests->smart-open>=1.8.1->gensim) (2.10)\n",
      "Requirement already satisfied, skipping upgrade: certifi>=2017.4.17 in /home/sajjanakash18/anaconda3/lib/python3.7/site-packages (from requests->smart-open>=1.8.1->gensim) (2020.6.20)\n",
      "Requirement already satisfied, skipping upgrade: urllib3!=1.25.0,!=1.25.1,<1.26,>=1.21.1 in /home/sajjanakash18/anaconda3/lib/python3.7/site-packages (from requests->smart-open>=1.8.1->gensim) (1.25.9)\n",
      "Collecting s3transfer<0.4.0,>=0.3.0\n",
      "  Downloading s3transfer-0.3.3-py2.py3-none-any.whl (69 kB)\n",
      "\u001b[K     |████████████████████████████████| 69 kB 807 kB/s eta 0:00:01\n",
      "\u001b[?25hCollecting botocore<1.18.0,>=1.17.20\n",
      "  Downloading botocore-1.17.20-py2.py3-none-any.whl (6.3 MB)\n",
      "\u001b[K     |████████████████████████████████| 6.3 MB 773 kB/s eta 0:00:01\n",
      "\u001b[?25hCollecting jmespath<1.0.0,>=0.7.1\n",
      "  Downloading jmespath-0.10.0-py2.py3-none-any.whl (24 kB)\n",
      "Requirement already satisfied, skipping upgrade: python-dateutil<3.0.0,>=2.1 in /home/sajjanakash18/anaconda3/lib/python3.7/site-packages (from botocore<1.18.0,>=1.17.20->boto3->smart-open>=1.8.1->gensim) (2.8.1)\n",
      "Collecting docutils<0.16,>=0.10\n",
      "  Downloading docutils-0.15.2-py3-none-any.whl (547 kB)\n",
      "\u001b[K     |████████████████████████████████| 547 kB 1.1 MB/s eta 0:00:01\n",
      "\u001b[?25hBuilding wheels for collected packages: smart-open\n",
      "  Building wheel for smart-open (setup.py) ... \u001b[?25ldone\n",
      "\u001b[?25h  Created wheel for smart-open: filename=smart_open-2.1.0-py3-none-any.whl size=110317 sha256=4be380b0766909625a039d86986f20f59ab111c26586a2774d8b412c090a822e\n",
      "  Stored in directory: /home/sajjanakash18/.cache/pip/wheels/56/b5/6d/86dbe4f29d4688e5163a8b8c6b740494310040286fca4dc648\n",
      "Successfully built smart-open\n",
      "Installing collected packages: jmespath, docutils, botocore, s3transfer, boto3, smart-open, gensim\n",
      "  Attempting uninstall: docutils\n",
      "    Found existing installation: docutils 0.16\n",
      "    Uninstalling docutils-0.16:\n",
      "      Successfully uninstalled docutils-0.16\n",
      "Successfully installed boto3-1.14.20 botocore-1.17.20 docutils-0.15.2 gensim-3.8.3 jmespath-0.10.0 s3transfer-0.3.3 smart-open-2.1.0\n",
      "Collecting keras\n",
      "  Downloading Keras-2.4.3-py2.py3-none-any.whl (36 kB)\n",
      "Requirement already satisfied, skipping upgrade: pyyaml in /home/sajjanakash18/anaconda3/lib/python3.7/site-packages (from keras) (5.3.1)\n",
      "Requirement already satisfied, skipping upgrade: h5py in /home/sajjanakash18/anaconda3/lib/python3.7/site-packages (from keras) (2.10.0)\n",
      "Requirement already satisfied, skipping upgrade: scipy>=0.14 in /home/sajjanakash18/anaconda3/lib/python3.7/site-packages (from keras) (1.5.0)\n",
      "Requirement already satisfied, skipping upgrade: numpy>=1.9.1 in /home/sajjanakash18/anaconda3/lib/python3.7/site-packages (from keras) (1.18.5)\n",
      "Requirement already satisfied, skipping upgrade: six in /home/sajjanakash18/anaconda3/lib/python3.7/site-packages (from h5py->keras) (1.15.0)\n",
      "Installing collected packages: keras\n",
      "  Attempting uninstall: keras\n",
      "    Found existing installation: Keras 2.3.1\n",
      "    Uninstalling Keras-2.3.1:\n",
      "      Successfully uninstalled Keras-2.3.1\n",
      "Successfully installed keras-2.4.3\n",
      "Requirement already up-to-date: pandas in /home/sajjanakash18/anaconda3/lib/python3.7/site-packages (1.0.5)\n",
      "Requirement already satisfied, skipping upgrade: numpy>=1.13.3 in /home/sajjanakash18/anaconda3/lib/python3.7/site-packages (from pandas) (1.18.5)\n",
      "Requirement already satisfied, skipping upgrade: python-dateutil>=2.6.1 in /home/sajjanakash18/anaconda3/lib/python3.7/site-packages (from pandas) (2.8.1)\n",
      "Requirement already satisfied, skipping upgrade: pytz>=2017.2 in /home/sajjanakash18/anaconda3/lib/python3.7/site-packages (from pandas) (2020.1)\n",
      "Requirement already satisfied, skipping upgrade: six>=1.5 in /home/sajjanakash18/anaconda3/lib/python3.7/site-packages (from python-dateutil>=2.6.1->pandas) (1.15.0)\n"
     ]
    }
   ],
   "source": [
    "!pip install gensim --upgrade\n",
    "!pip install keras --upgrade\n",
    "!pip install pandas --upgrade"
   ]
  },
  {
   "cell_type": "code",
   "execution_count": 11,
   "metadata": {},
   "outputs": [
    {
     "name": "stdout",
     "output_type": "stream",
     "text": [
      "Requirement already up-to-date: tensorflow in /home/sajjanakash18/anaconda3/lib/python3.7/site-packages (2.2.0)\n",
      "Requirement already satisfied, skipping upgrade: wheel>=0.26; python_version >= \"3\" in /home/sajjanakash18/anaconda3/lib/python3.7/site-packages (from tensorflow) (0.34.2)\n",
      "Requirement already satisfied, skipping upgrade: tensorflow-estimator<2.3.0,>=2.2.0 in /home/sajjanakash18/anaconda3/lib/python3.7/site-packages (from tensorflow) (2.2.0)\n",
      "Requirement already satisfied, skipping upgrade: scipy==1.4.1; python_version >= \"3\" in /home/sajjanakash18/anaconda3/lib/python3.7/site-packages (from tensorflow) (1.4.1)\n",
      "Requirement already satisfied, skipping upgrade: numpy<2.0,>=1.16.0 in /home/sajjanakash18/anaconda3/lib/python3.7/site-packages (from tensorflow) (1.18.5)\n",
      "Requirement already satisfied, skipping upgrade: h5py<2.11.0,>=2.10.0 in /home/sajjanakash18/anaconda3/lib/python3.7/site-packages (from tensorflow) (2.10.0)\n",
      "Requirement already satisfied, skipping upgrade: opt-einsum>=2.3.2 in /home/sajjanakash18/anaconda3/lib/python3.7/site-packages (from tensorflow) (3.1.0)\n",
      "Requirement already satisfied, skipping upgrade: tensorboard<2.3.0,>=2.2.0 in /home/sajjanakash18/anaconda3/lib/python3.7/site-packages (from tensorflow) (2.2.2)\n",
      "Requirement already satisfied, skipping upgrade: six>=1.12.0 in /home/sajjanakash18/anaconda3/lib/python3.7/site-packages (from tensorflow) (1.15.0)\n",
      "Requirement already satisfied, skipping upgrade: astunparse==1.6.3 in /home/sajjanakash18/anaconda3/lib/python3.7/site-packages (from tensorflow) (1.6.3)\n",
      "Requirement already satisfied, skipping upgrade: termcolor>=1.1.0 in /home/sajjanakash18/anaconda3/lib/python3.7/site-packages (from tensorflow) (1.1.0)\n",
      "Requirement already satisfied, skipping upgrade: google-pasta>=0.1.8 in /home/sajjanakash18/anaconda3/lib/python3.7/site-packages (from tensorflow) (0.1.8)\n",
      "Requirement already satisfied, skipping upgrade: keras-preprocessing>=1.1.0 in /home/sajjanakash18/anaconda3/lib/python3.7/site-packages (from tensorflow) (1.1.0)\n",
      "Requirement already satisfied, skipping upgrade: gast==0.3.3 in /home/sajjanakash18/anaconda3/lib/python3.7/site-packages (from tensorflow) (0.3.3)\n",
      "Requirement already satisfied, skipping upgrade: protobuf>=3.8.0 in /home/sajjanakash18/anaconda3/lib/python3.7/site-packages (from tensorflow) (3.11.3)\n",
      "Requirement already satisfied, skipping upgrade: absl-py>=0.7.0 in /home/sajjanakash18/anaconda3/lib/python3.7/site-packages (from tensorflow) (0.9.0)\n",
      "Requirement already satisfied, skipping upgrade: wrapt>=1.11.1 in /home/sajjanakash18/anaconda3/lib/python3.7/site-packages (from tensorflow) (1.12.1)\n",
      "Requirement already satisfied, skipping upgrade: grpcio>=1.8.6 in /home/sajjanakash18/anaconda3/lib/python3.7/site-packages (from tensorflow) (1.27.2)\n",
      "Requirement already satisfied, skipping upgrade: google-auth-oauthlib<0.5,>=0.4.1 in /home/sajjanakash18/anaconda3/lib/python3.7/site-packages (from tensorboard<2.3.0,>=2.2.0->tensorflow) (0.4.1)\n",
      "Requirement already satisfied, skipping upgrade: tensorboard-plugin-wit>=1.6.0 in /home/sajjanakash18/anaconda3/lib/python3.7/site-packages (from tensorboard<2.3.0,>=2.2.0->tensorflow) (1.7.0)\n",
      "Requirement already satisfied, skipping upgrade: requests<3,>=2.21.0 in /home/sajjanakash18/anaconda3/lib/python3.7/site-packages (from tensorboard<2.3.0,>=2.2.0->tensorflow) (2.24.0)\n",
      "Requirement already satisfied, skipping upgrade: werkzeug>=0.11.15 in /home/sajjanakash18/anaconda3/lib/python3.7/site-packages (from tensorboard<2.3.0,>=2.2.0->tensorflow) (1.0.1)\n",
      "Requirement already satisfied, skipping upgrade: setuptools>=41.0.0 in /home/sajjanakash18/anaconda3/lib/python3.7/site-packages (from tensorboard<2.3.0,>=2.2.0->tensorflow) (47.3.1.post20200622)\n",
      "Requirement already satisfied, skipping upgrade: markdown>=2.6.8 in /home/sajjanakash18/anaconda3/lib/python3.7/site-packages (from tensorboard<2.3.0,>=2.2.0->tensorflow) (3.2.1)\n",
      "Requirement already satisfied, skipping upgrade: google-auth<2,>=1.6.3 in /home/sajjanakash18/anaconda3/lib/python3.7/site-packages (from tensorboard<2.3.0,>=2.2.0->tensorflow) (1.11.2)\n",
      "Requirement already satisfied, skipping upgrade: requests-oauthlib>=0.7.0 in /home/sajjanakash18/anaconda3/lib/python3.7/site-packages (from google-auth-oauthlib<0.5,>=0.4.1->tensorboard<2.3.0,>=2.2.0->tensorflow) (1.3.0)\n",
      "Requirement already satisfied, skipping upgrade: idna<3,>=2.5 in /home/sajjanakash18/anaconda3/lib/python3.7/site-packages (from requests<3,>=2.21.0->tensorboard<2.3.0,>=2.2.0->tensorflow) (2.10)\n",
      "Requirement already satisfied, skipping upgrade: chardet<4,>=3.0.2 in /home/sajjanakash18/anaconda3/lib/python3.7/site-packages (from requests<3,>=2.21.0->tensorboard<2.3.0,>=2.2.0->tensorflow) (3.0.4)\n",
      "Requirement already satisfied, skipping upgrade: certifi>=2017.4.17 in /home/sajjanakash18/anaconda3/lib/python3.7/site-packages (from requests<3,>=2.21.0->tensorboard<2.3.0,>=2.2.0->tensorflow) (2020.6.20)\n",
      "Requirement already satisfied, skipping upgrade: urllib3!=1.25.0,!=1.25.1,<1.26,>=1.21.1 in /home/sajjanakash18/anaconda3/lib/python3.7/site-packages (from requests<3,>=2.21.0->tensorboard<2.3.0,>=2.2.0->tensorflow) (1.25.9)\n",
      "Requirement already satisfied, skipping upgrade: pyasn1-modules>=0.2.1 in /home/sajjanakash18/anaconda3/lib/python3.7/site-packages (from google-auth<2,>=1.6.3->tensorboard<2.3.0,>=2.2.0->tensorflow) (0.2.8)\n",
      "Requirement already satisfied, skipping upgrade: rsa<4.1,>=3.1.4 in /home/sajjanakash18/anaconda3/lib/python3.7/site-packages (from google-auth<2,>=1.6.3->tensorboard<2.3.0,>=2.2.0->tensorflow) (4.0)\n",
      "Requirement already satisfied, skipping upgrade: cachetools<5.0,>=2.0.0 in /home/sajjanakash18/anaconda3/lib/python3.7/site-packages (from google-auth<2,>=1.6.3->tensorboard<2.3.0,>=2.2.0->tensorflow) (4.0.0)\n",
      "Requirement already satisfied, skipping upgrade: oauthlib>=3.0.0 in /home/sajjanakash18/anaconda3/lib/python3.7/site-packages (from requests-oauthlib>=0.7.0->google-auth-oauthlib<0.5,>=0.4.1->tensorboard<2.3.0,>=2.2.0->tensorflow) (3.1.0)\n",
      "Requirement already satisfied, skipping upgrade: pyasn1<0.5.0,>=0.4.6 in /home/sajjanakash18/anaconda3/lib/python3.7/site-packages (from pyasn1-modules>=0.2.1->google-auth<2,>=1.6.3->tensorboard<2.3.0,>=2.2.0->tensorflow) (0.4.8)\n"
     ]
    }
   ],
   "source": [
    "!pip install tensorflow --upgrade"
   ]
  },
  {
   "cell_type": "code",
   "execution_count": 1,
   "metadata": {
    "_uuid": "303e72966af732ddef0bd8108a321095314e44af"
   },
   "outputs": [],
   "source": [
    "# DataFrame\n",
    "import pandas as pd\n",
    "\n",
    "# Matplot\n",
    "import matplotlib.pyplot as plt\n",
    "%matplotlib inline\n",
    "\n",
    "# Scikit-learn\n",
    "from sklearn.model_selection import train_test_split\n",
    "from sklearn.preprocessing import LabelEncoder\n",
    "from sklearn.metrics import confusion_matrix, classification_report, accuracy_score\n",
    "from sklearn.manifold import TSNE\n",
    "from sklearn.feature_extraction.text import TfidfVectorizer\n",
    "\n",
    "# Keras\n",
    "from keras.preprocessing.text import Tokenizer\n",
    "from keras.preprocessing.sequence import pad_sequences\n",
    "from keras.models import Sequential\n",
    "from keras.layers import Activation, Dense, Dropout, Embedding, Flatten, Conv1D, MaxPooling1D, LSTM\n",
    "from keras import utils\n",
    "from keras.callbacks import ReduceLROnPlateau, EarlyStopping\n",
    "\n",
    "# nltk\n",
    "import nltk\n",
    "from nltk.corpus import stopwords\n",
    "from  nltk.stem import SnowballStemmer\n",
    "\n",
    "# Word2vec\n",
    "import gensim\n",
    "\n",
    "# Utility\n",
    "import re\n",
    "import numpy as np\n",
    "import os\n",
    "from collections import Counter\n",
    "import logging\n",
    "import time\n",
    "import pickle\n",
    "import itertools\n",
    "\n",
    "# Set log\n",
    "logging.basicConfig(format='%(asctime)s : %(levelname)s : %(message)s', level=logging.INFO)"
   ]
  },
  {
   "cell_type": "code",
   "execution_count": 2,
   "metadata": {},
   "outputs": [
    {
     "data": {
      "text/plain": [
       "'2.2.0'"
      ]
     },
     "execution_count": 2,
     "metadata": {},
     "output_type": "execute_result"
    }
   ],
   "source": [
    "import tensorflow as tf\n",
    "tf.__version__"
   ]
  },
  {
   "cell_type": "code",
   "execution_count": 3,
   "metadata": {
    "_uuid": "35e1a89dead5fd160e4c9a024a21d2e569fc89ff"
   },
   "outputs": [
    {
     "name": "stderr",
     "output_type": "stream",
     "text": [
      "[nltk_data] Downloading package stopwords to\n",
      "[nltk_data]     /home/sajjanakash18/nltk_data...\n",
      "[nltk_data]   Package stopwords is already up-to-date!\n"
     ]
    },
    {
     "data": {
      "text/plain": [
       "True"
      ]
     },
     "execution_count": 3,
     "metadata": {},
     "output_type": "execute_result"
    }
   ],
   "source": [
    "nltk.download('stopwords')"
   ]
  },
  {
   "cell_type": "markdown",
   "metadata": {
    "_uuid": "e8b01a07df001e4abcc745900336c4db06e455f3"
   },
   "source": [
    "### Settings"
   ]
  },
  {
   "cell_type": "code",
   "execution_count": 23,
   "metadata": {
    "_uuid": "180f0dd2a95419e4602b5c0229822b0111c826f6"
   },
   "outputs": [],
   "source": [
    "# DATASET\n",
    "DATASET_COLUMNS = [\"target\", \"ids\", \"date\", \"flag\", \"user\", \"text\"]\n",
    "DATASET_ENCODING = \"ISO-8859-1\"\n",
    "TRAIN_SIZE = 0.8\n",
    "\n",
    "# TEXT CLENAING\n",
    "TEXT_CLEANING_RE = \"@\\S+|https?:\\S+|http?:\\S|[^A-Za-z0-9]+\"\n",
    "\n",
    "# WORD2VEC \n",
    "W2V_SIZE = 300\n",
    "W2V_WINDOW = 7\n",
    "W2V_EPOCH = 32\n",
    "W2V_MIN_COUNT = 10\n",
    "\n",
    "# KERAS\n",
    "SEQUENCE_LENGTH = 10\n",
    "EPOCHS = 8\n",
    "BATCH_SIZE = 1024\n",
    "\n",
    "# SENTIMENT\n",
    "POSITIVE = \"POSITIVE\"\n",
    "NEGATIVE = \"NEGATIVE\"\n",
    "NEUTRAL = \"NEUTRAL\"\n",
    "SENTIMENT_THRESHOLDS = (0.4, 0.7)\n",
    "\n",
    "# EXPORT\n",
    "KERAS_MODEL = \"model.h5\"\n",
    "WORD2VEC_MODEL = \"model.w2v\"\n",
    "TOKENIZER_MODEL = \"tokenizer.pkl\"\n",
    "ENCODER_MODEL = \"encoder.pkl\""
   ]
  },
  {
   "cell_type": "markdown",
   "metadata": {
    "_uuid": "1c3beecc618be68480b3d4f0de08d9d863da1dc1"
   },
   "source": [
    "### Read Dataset"
   ]
  },
  {
   "cell_type": "markdown",
   "metadata": {
    "_uuid": "563b3c44f1092dba0b853747b098e00509098cca"
   },
   "source": [
    "### Dataset details\n",
    "* **target**: the polarity of the tweet (0 = negative, 2 = neutral, 4 = positive)\n",
    "* **ids**: The id of the tweet ( 2087)\n",
    "* **date**: the date of the tweet (Sat May 16 23:58:44 UTC 2009)\n",
    "* **flag**: The query (lyx). If there is no query, then this value is NO_QUERY.\n",
    "* **user**: the user that tweeted (robotickilldozr)\n",
    "* **text**: the text of the tweet (Lyx is cool)"
   ]
  },
  {
   "cell_type": "code",
   "execution_count": 5,
   "metadata": {
    "_uuid": "bba8f91cd70de4f5ea0fb0870ae2029b6e3dcc24"
   },
   "outputs": [],
   "source": [
    "#dataset_filename = os.listdir(\"../input\")[0]\n",
    "#dataset_path = os.path.join(\"..\",\"input\",dataset_filename)\n",
    "#print(\"Open file:\", dataset_path)\n",
    "df = pd.read_csv('trained.csv', encoding =DATASET_ENCODING , names=DATASET_COLUMNS)"
   ]
  },
  {
   "cell_type": "code",
   "execution_count": 6,
   "metadata": {
    "_uuid": "936d499c00c4f1648bc16ca9d283c3b39be7fb10"
   },
   "outputs": [
    {
     "name": "stdout",
     "output_type": "stream",
     "text": [
      "Dataset size: 1600000\n"
     ]
    }
   ],
   "source": [
    "print(\"Dataset size:\", len(df))"
   ]
  },
  {
   "cell_type": "code",
   "execution_count": 7,
   "metadata": {
    "_uuid": "7486ed895b813c5246f97b31b6162b0f65ff763b"
   },
   "outputs": [
    {
     "data": {
      "text/html": [
       "<div>\n",
       "<style scoped>\n",
       "    .dataframe tbody tr th:only-of-type {\n",
       "        vertical-align: middle;\n",
       "    }\n",
       "\n",
       "    .dataframe tbody tr th {\n",
       "        vertical-align: top;\n",
       "    }\n",
       "\n",
       "    .dataframe thead th {\n",
       "        text-align: right;\n",
       "    }\n",
       "</style>\n",
       "<table border=\"1\" class=\"dataframe\">\n",
       "  <thead>\n",
       "    <tr style=\"text-align: right;\">\n",
       "      <th></th>\n",
       "      <th>target</th>\n",
       "      <th>ids</th>\n",
       "      <th>date</th>\n",
       "      <th>flag</th>\n",
       "      <th>user</th>\n",
       "      <th>text</th>\n",
       "    </tr>\n",
       "  </thead>\n",
       "  <tbody>\n",
       "    <tr>\n",
       "      <th>0</th>\n",
       "      <td>0</td>\n",
       "      <td>1467810369</td>\n",
       "      <td>Mon Apr 06 22:19:45 PDT 2009</td>\n",
       "      <td>NO_QUERY</td>\n",
       "      <td>_TheSpecialOne_</td>\n",
       "      <td>@switchfoot http://twitpic.com/2y1zl - Awww, t...</td>\n",
       "    </tr>\n",
       "    <tr>\n",
       "      <th>1</th>\n",
       "      <td>0</td>\n",
       "      <td>1467810672</td>\n",
       "      <td>Mon Apr 06 22:19:49 PDT 2009</td>\n",
       "      <td>NO_QUERY</td>\n",
       "      <td>scotthamilton</td>\n",
       "      <td>is upset that he can't update his Facebook by ...</td>\n",
       "    </tr>\n",
       "    <tr>\n",
       "      <th>2</th>\n",
       "      <td>0</td>\n",
       "      <td>1467810917</td>\n",
       "      <td>Mon Apr 06 22:19:53 PDT 2009</td>\n",
       "      <td>NO_QUERY</td>\n",
       "      <td>mattycus</td>\n",
       "      <td>@Kenichan I dived many times for the ball. Man...</td>\n",
       "    </tr>\n",
       "    <tr>\n",
       "      <th>3</th>\n",
       "      <td>0</td>\n",
       "      <td>1467811184</td>\n",
       "      <td>Mon Apr 06 22:19:57 PDT 2009</td>\n",
       "      <td>NO_QUERY</td>\n",
       "      <td>ElleCTF</td>\n",
       "      <td>my whole body feels itchy and like its on fire</td>\n",
       "    </tr>\n",
       "    <tr>\n",
       "      <th>4</th>\n",
       "      <td>0</td>\n",
       "      <td>1467811193</td>\n",
       "      <td>Mon Apr 06 22:19:57 PDT 2009</td>\n",
       "      <td>NO_QUERY</td>\n",
       "      <td>Karoli</td>\n",
       "      <td>@nationwideclass no, it's not behaving at all....</td>\n",
       "    </tr>\n",
       "  </tbody>\n",
       "</table>\n",
       "</div>"
      ],
      "text/plain": [
       "   target         ids                          date      flag  \\\n",
       "0       0  1467810369  Mon Apr 06 22:19:45 PDT 2009  NO_QUERY   \n",
       "1       0  1467810672  Mon Apr 06 22:19:49 PDT 2009  NO_QUERY   \n",
       "2       0  1467810917  Mon Apr 06 22:19:53 PDT 2009  NO_QUERY   \n",
       "3       0  1467811184  Mon Apr 06 22:19:57 PDT 2009  NO_QUERY   \n",
       "4       0  1467811193  Mon Apr 06 22:19:57 PDT 2009  NO_QUERY   \n",
       "\n",
       "              user                                               text  \n",
       "0  _TheSpecialOne_  @switchfoot http://twitpic.com/2y1zl - Awww, t...  \n",
       "1    scotthamilton  is upset that he can't update his Facebook by ...  \n",
       "2         mattycus  @Kenichan I dived many times for the ball. Man...  \n",
       "3          ElleCTF    my whole body feels itchy and like its on fire   \n",
       "4           Karoli  @nationwideclass no, it's not behaving at all....  "
      ]
     },
     "execution_count": 7,
     "metadata": {},
     "output_type": "execute_result"
    }
   ],
   "source": [
    "df.head(5)"
   ]
  },
  {
   "cell_type": "markdown",
   "metadata": {
    "_uuid": "3f9a7bb129e184967b13261fb5d253af451c75c5"
   },
   "source": [
    "### Map target label to String\n",
    "* **0** -> **NEGATIVE**\n",
    "* **2** -> **NEUTRAL**\n",
    "* **4** -> **POSITIVE**"
   ]
  },
  {
   "cell_type": "code",
   "execution_count": 8,
   "metadata": {
    "_uuid": "14074b59106cb9550440839e48b832223fc9502f"
   },
   "outputs": [],
   "source": [
    "decode_map = {0: \"NEGATIVE\", 2: \"NEUTRAL\", 4: \"POSITIVE\"}\n",
    "def decode_sentiment(label):\n",
    "    return decode_map[int(label)]"
   ]
  },
  {
   "cell_type": "code",
   "execution_count": 9,
   "metadata": {
    "_uuid": "4449d473187f647a195a6ac6986b009da32a7f4b"
   },
   "outputs": [
    {
     "name": "stdout",
     "output_type": "stream",
     "text": [
      "CPU times: user 438 ms, sys: 11.8 ms, total: 450 ms\n",
      "Wall time: 529 ms\n"
     ]
    }
   ],
   "source": [
    "%%time\n",
    "df.target = df.target.apply(lambda x: decode_sentiment(x))"
   ]
  },
  {
   "cell_type": "code",
   "execution_count": 10,
   "metadata": {
    "_uuid": "19eb327803192f31cce3512aacb232f4d6b38715"
   },
   "outputs": [
    {
     "data": {
      "text/plain": [
       "Text(0.5, 1.0, 'Dataset labels distribuition')"
      ]
     },
     "execution_count": 10,
     "metadata": {},
     "output_type": "execute_result"
    },
    {
     "data": {
      "image/png": "[encoded data removed]",
      "text/plain": [
       "<Figure size 1152x576 with 1 Axes>"
      ]
     },
     "metadata": {
      "needs_background": "light"
     },
     "output_type": "display_data"
    }
   ],
   "source": [
    "target_cnt = Counter(df.target)\n",
    "\n",
    "plt.figure(figsize=(16,8))\n",
    "plt.bar(target_cnt.keys(), target_cnt.values())\n",
    "plt.title(\"Dataset labels distribuition\")"
   ]
  },
  {
   "cell_type": "markdown",
   "metadata": {
    "_uuid": "4329b1573518b03e497213efa7676220734ebb4b"
   },
   "source": [
    "### Pre-Process dataset"
   ]
  },
  {
   "cell_type": "code",
   "execution_count": 11,
   "metadata": {
    "_uuid": "8aeee8b7b9ea11b749c7f91cd4787a7b50ed1a91"
   },
   "outputs": [],
   "source": [
    "stop_words = stopwords.words(\"english\")\n",
    "stemmer = SnowballStemmer(\"english\")"
   ]
  },
  {
   "cell_type": "code",
   "execution_count": 12,
   "metadata": {
    "_uuid": "649ebcb97969b9ac4301138783704bb3d7846a49"
   },
   "outputs": [],
   "source": [
    "def preprocess(text, stem=False):\n",
    "    # Remove link,user and special characters\n",
    "    text = re.sub(TEXT_CLEANING_RE, ' ', str(text).lower()).strip()\n",
    "    tokens = []\n",
    "    for token in text.split():\n",
    "        if token not in stop_words:\n",
    "            if stem:\n",
    "                tokens.append(stemmer.stem(token))\n",
    "            else:\n",
    "                tokens.append(token)\n",
    "    return \" \".join(tokens)"
   ]
  },
  {
   "cell_type": "code",
   "execution_count": 13,
   "metadata": {
    "_uuid": "f7f3e77ab9291d14687c49e71ba9b2b1e3323432"
   },
   "outputs": [
    {
     "name": "stdout",
     "output_type": "stream",
     "text": [
      "CPU times: user 46 s, sys: 79.9 ms, total: 46.1 s\n",
      "Wall time: 46.1 s\n"
     ]
    }
   ],
   "source": [
    "%%time\n",
    "df.text = df.text.apply(lambda x: preprocess(x))"
   ]
  },
  {
   "cell_type": "markdown",
   "metadata": {
    "_uuid": "f5f9714a8507409bbe780eebf2855a33e8e6ba37"
   },
   "source": [
    "### Split train and test"
   ]
  },
  {
   "cell_type": "code",
   "execution_count": 14,
   "metadata": {
    "_uuid": "d2b1179c968e3f3910c790ecf0c5b2cbb34b0e68"
   },
   "outputs": [
    {
     "name": "stdout",
     "output_type": "stream",
     "text": [
      "TRAIN size: 1280000\n",
      "TEST size: 320000\n"
     ]
    }
   ],
   "source": [
    "df_train, df_test = train_test_split(df, test_size=1-TRAIN_SIZE, random_state=42)\n",
    "print(\"TRAIN size:\", len(df_train))\n",
    "print(\"TEST size:\", len(df_test))"
   ]
  },
  {
   "cell_type": "markdown",
   "metadata": {
    "_uuid": "f08a28aab2c3d16d8b9681a7d5d07587153a1cd6"
   },
   "source": [
    "### Word2Vec "
   ]
  },
  {
   "cell_type": "code",
   "execution_count": 15,
   "metadata": {
    "_uuid": "2461bf564de1b4414841933d0c1d1bee5f5cc5a6"
   },
   "outputs": [
    {
     "name": "stdout",
     "output_type": "stream",
     "text": [
      "CPU times: user 2.8 s, sys: 338 ms, total: 3.14 s\n",
      "Wall time: 22.7 s\n"
     ]
    }
   ],
   "source": [
    "%%time\n",
    "documents = [_text.split() for _text in df_train.text] "
   ]
  },
  {
   "cell_type": "code",
   "execution_count": 16,
   "metadata": {
    "_uuid": "8e19b9f25801ba86420decc266d2b3e6fb44f1ea"
   },
   "outputs": [],
   "source": [
    "w2v_model = gensim.models.word2vec.Word2Vec(size=W2V_SIZE, \n",
    "                                            window=W2V_WINDOW, \n",
    "                                            min_count=W2V_MIN_COUNT, \n",
    "                                            workers=8)"
   ]
  },
  {
   "cell_type": "code",
   "execution_count": 17,
   "metadata": {
    "_uuid": "58d655af07653c594bec6bebcfb302a973b0ad9c"
   },
   "outputs": [
    {
     "name": "stderr",
     "output_type": "stream",
     "text": [
      "2020-07-14 18:10:41,140 : INFO : collecting all words and their counts\n",
      "2020-07-14 18:10:41,141 : INFO : PROGRESS: at sentence #0, processed 0 words, keeping 0 word types\n",
      "2020-07-14 18:10:41,170 : INFO : PROGRESS: at sentence #10000, processed 72565 words, keeping 14005 word types\n",
      "2020-07-14 18:10:41,196 : INFO : PROGRESS: at sentence #20000, processed 144393 words, keeping 21587 word types\n",
      "2020-07-14 18:10:41,212 : INFO : PROGRESS: at sentence #30000, processed 215826 words, keeping 27541 word types\n",
      "2020-07-14 18:10:41,232 : INFO : PROGRESS: at sentence #40000, processed 288271 words, keeping 32764 word types\n",
      "2020-07-14 18:10:41,247 : INFO : PROGRESS: at sentence #50000, processed 359772 words, keeping 37587 word types\n",
      "2020-07-14 18:10:41,263 : INFO : PROGRESS: at sentence #60000, processed 431431 words, keeping 42198 word types\n",
      "2020-07-14 18:10:41,293 : INFO : PROGRESS: at sentence #70000, processed 503103 words, keeping 46458 word types\n",
      "2020-07-14 18:10:41,317 : INFO : PROGRESS: at sentence #80000, processed 575709 words, keeping 50476 word types\n",
      "2020-07-14 18:10:41,338 : INFO : PROGRESS: at sentence #90000, processed 647100 words, keeping 54140 word types\n",
      "2020-07-14 18:10:41,356 : INFO : PROGRESS: at sentence #100000, processed 718681 words, keeping 57777 word types\n",
      "2020-07-14 18:10:41,373 : INFO : PROGRESS: at sentence #110000, processed 790696 words, keeping 61207 word types\n",
      "2020-07-14 18:10:41,389 : INFO : PROGRESS: at sentence #120000, processed 863134 words, keeping 64583 word types\n",
      "2020-07-14 18:10:41,406 : INFO : PROGRESS: at sentence #130000, processed 935111 words, keeping 67865 word types\n",
      "2020-07-14 18:10:41,423 : INFO : PROGRESS: at sentence #140000, processed 1006668 words, keeping 70966 word types\n",
      "2020-07-14 18:10:41,444 : INFO : PROGRESS: at sentence #150000, processed 1078512 words, keeping 74119 word types\n",
      "2020-07-14 18:10:41,475 : INFO : PROGRESS: at sentence #160000, processed 1149914 words, keeping 77187 word types\n",
      "2020-07-14 18:10:41,505 : INFO : PROGRESS: at sentence #170000, processed 1222145 words, keeping 80267 word types\n",
      "2020-07-14 18:10:41,530 : INFO : PROGRESS: at sentence #180000, processed 1294708 words, keeping 83393 word types\n",
      "2020-07-14 18:10:41,563 : INFO : PROGRESS: at sentence #190000, processed 1367608 words, keeping 86329 word types\n",
      "2020-07-14 18:10:41,599 : INFO : PROGRESS: at sentence #200000, processed 1439469 words, keeping 89103 word types\n",
      "2020-07-14 18:10:41,626 : INFO : PROGRESS: at sentence #210000, processed 1512099 words, keeping 91840 word types\n",
      "2020-07-14 18:10:41,654 : INFO : PROGRESS: at sentence #220000, processed 1584149 words, keeping 94636 word types\n",
      "2020-07-14 18:10:41,678 : INFO : PROGRESS: at sentence #230000, processed 1656354 words, keeping 97353 word types\n",
      "2020-07-14 18:10:41,710 : INFO : PROGRESS: at sentence #240000, processed 1728573 words, keeping 99975 word types\n",
      "2020-07-14 18:10:41,733 : INFO : PROGRESS: at sentence #250000, processed 1801102 words, keeping 102594 word types\n",
      "2020-07-14 18:10:41,755 : INFO : PROGRESS: at sentence #260000, processed 1873103 words, keeping 105162 word types\n",
      "2020-07-14 18:10:41,780 : INFO : PROGRESS: at sentence #270000, processed 1945245 words, keeping 107626 word types\n",
      "2020-07-14 18:10:41,810 : INFO : PROGRESS: at sentence #280000, processed 2017163 words, keeping 110141 word types\n",
      "2020-07-14 18:10:41,832 : INFO : PROGRESS: at sentence #290000, processed 2089574 words, keeping 112539 word types\n",
      "2020-07-14 18:10:41,858 : INFO : PROGRESS: at sentence #300000, processed 2160996 words, keeping 114893 word types\n",
      "2020-07-14 18:10:41,884 : INFO : PROGRESS: at sentence #310000, processed 2232913 words, keeping 117298 word types\n",
      "2020-07-14 18:10:41,914 : INFO : PROGRESS: at sentence #320000, processed 2305039 words, keeping 119693 word types\n",
      "2020-07-14 18:10:41,938 : INFO : PROGRESS: at sentence #330000, processed 2377119 words, keeping 122131 word types\n",
      "2020-07-14 18:10:41,965 : INFO : PROGRESS: at sentence #340000, processed 2449370 words, keeping 124416 word types\n",
      "2020-07-14 18:10:41,988 : INFO : PROGRESS: at sentence #350000, processed 2521564 words, keeping 126669 word types\n",
      "2020-07-14 18:10:42,012 : INFO : PROGRESS: at sentence #360000, processed 2593681 words, keeping 128912 word types\n",
      "2020-07-14 18:10:42,042 : INFO : PROGRESS: at sentence #370000, processed 2665692 words, keeping 131135 word types\n",
      "2020-07-14 18:10:42,074 : INFO : PROGRESS: at sentence #380000, processed 2737859 words, keeping 133403 word types\n",
      "2020-07-14 18:10:42,102 : INFO : PROGRESS: at sentence #390000, processed 2809848 words, keeping 135551 word types\n",
      "2020-07-14 18:10:42,127 : INFO : PROGRESS: at sentence #400000, processed 2882438 words, keeping 137742 word types\n",
      "2020-07-14 18:10:42,154 : INFO : PROGRESS: at sentence #410000, processed 2954075 words, keeping 139909 word types\n",
      "2020-07-14 18:10:42,180 : INFO : PROGRESS: at sentence #420000, processed 3026247 words, keeping 142144 word types\n",
      "2020-07-14 18:10:42,205 : INFO : PROGRESS: at sentence #430000, processed 3098659 words, keeping 144364 word types\n",
      "2020-07-14 18:10:42,228 : INFO : PROGRESS: at sentence #440000, processed 3170663 words, keeping 146439 word types\n",
      "2020-07-14 18:10:42,260 : INFO : PROGRESS: at sentence #450000, processed 3243344 words, keeping 148526 word types\n",
      "2020-07-14 18:10:42,297 : INFO : PROGRESS: at sentence #460000, processed 3315466 words, keeping 150610 word types\n",
      "2020-07-14 18:10:42,326 : INFO : PROGRESS: at sentence #470000, processed 3388295 words, keeping 152737 word types\n",
      "2020-07-14 18:10:42,350 : INFO : PROGRESS: at sentence #480000, processed 3460120 words, keeping 154757 word types\n",
      "2020-07-14 18:10:42,389 : INFO : PROGRESS: at sentence #490000, processed 3531883 words, keeping 156825 word types\n",
      "2020-07-14 18:10:42,422 : INFO : PROGRESS: at sentence #500000, processed 3604217 words, keeping 158859 word types\n",
      "2020-07-14 18:10:42,456 : INFO : PROGRESS: at sentence #510000, processed 3676427 words, keeping 160852 word types\n",
      "2020-07-14 18:10:42,488 : INFO : PROGRESS: at sentence #520000, processed 3749045 words, keeping 162863 word types\n",
      "2020-07-14 18:10:42,509 : INFO : PROGRESS: at sentence #530000, processed 3821622 words, keeping 164929 word types\n",
      "2020-07-14 18:10:42,530 : INFO : PROGRESS: at sentence #540000, processed 3893627 words, keeping 166840 word types\n",
      "2020-07-14 18:10:42,549 : INFO : PROGRESS: at sentence #550000, processed 3965477 words, keeping 168799 word types\n",
      "2020-07-14 18:10:42,566 : INFO : PROGRESS: at sentence #560000, processed 4038050 words, keeping 170802 word types\n",
      "2020-07-14 18:10:42,584 : INFO : PROGRESS: at sentence #570000, processed 4110296 words, keeping 172760 word types\n",
      "2020-07-14 18:10:42,602 : INFO : PROGRESS: at sentence #580000, processed 4182385 words, keeping 174635 word types\n",
      "2020-07-14 18:10:42,640 : INFO : PROGRESS: at sentence #590000, processed 4254632 words, keeping 176470 word types\n",
      "2020-07-14 18:10:42,681 : INFO : PROGRESS: at sentence #600000, processed 4326859 words, keeping 178350 word types\n",
      "2020-07-14 18:10:42,722 : INFO : PROGRESS: at sentence #610000, processed 4399183 words, keeping 180290 word types\n",
      "2020-07-14 18:10:42,758 : INFO : PROGRESS: at sentence #620000, processed 4471343 words, keeping 182129 word types\n",
      "2020-07-14 18:10:42,794 : INFO : PROGRESS: at sentence #630000, processed 4543286 words, keeping 184005 word types\n",
      "2020-07-14 18:10:42,837 : INFO : PROGRESS: at sentence #640000, processed 4615780 words, keeping 185835 word types\n",
      "2020-07-14 18:10:42,878 : INFO : PROGRESS: at sentence #650000, processed 4688481 words, keeping 187705 word types\n",
      "2020-07-14 18:10:42,903 : INFO : PROGRESS: at sentence #660000, processed 4760481 words, keeping 189439 word types\n",
      "2020-07-14 18:10:42,930 : INFO : PROGRESS: at sentence #670000, processed 4833024 words, keeping 191232 word types\n",
      "2020-07-14 18:10:42,953 : INFO : PROGRESS: at sentence #680000, processed 4904516 words, keeping 193177 word types\n",
      "2020-07-14 18:10:42,981 : INFO : PROGRESS: at sentence #690000, processed 4976968 words, keeping 194960 word types\n",
      "2020-07-14 18:10:43,007 : INFO : PROGRESS: at sentence #700000, processed 5049412 words, keeping 196725 word types\n",
      "2020-07-14 18:10:43,034 : INFO : PROGRESS: at sentence #710000, processed 5121976 words, keeping 198516 word types\n"
     ]
    },
    {
     "name": "stderr",
     "output_type": "stream",
     "text": [
      "2020-07-14 18:10:43,063 : INFO : PROGRESS: at sentence #720000, processed 5193881 words, keeping 200325 word types\n",
      "2020-07-14 18:10:43,096 : INFO : PROGRESS: at sentence #730000, processed 5265467 words, keeping 202133 word types\n",
      "2020-07-14 18:10:43,123 : INFO : PROGRESS: at sentence #740000, processed 5337518 words, keeping 203818 word types\n",
      "2020-07-14 18:10:43,151 : INFO : PROGRESS: at sentence #750000, processed 5409321 words, keeping 205535 word types\n",
      "2020-07-14 18:10:43,187 : INFO : PROGRESS: at sentence #760000, processed 5481512 words, keeping 207282 word types\n",
      "2020-07-14 18:10:43,215 : INFO : PROGRESS: at sentence #770000, processed 5554093 words, keeping 209076 word types\n",
      "2020-07-14 18:10:43,246 : INFO : PROGRESS: at sentence #780000, processed 5625382 words, keeping 210805 word types\n",
      "2020-07-14 18:10:43,271 : INFO : PROGRESS: at sentence #790000, processed 5698066 words, keeping 212618 word types\n",
      "2020-07-14 18:10:43,296 : INFO : PROGRESS: at sentence #800000, processed 5770880 words, keeping 214374 word types\n",
      "2020-07-14 18:10:43,323 : INFO : PROGRESS: at sentence #810000, processed 5843418 words, keeping 216009 word types\n",
      "2020-07-14 18:10:43,348 : INFO : PROGRESS: at sentence #820000, processed 5915628 words, keeping 217804 word types\n",
      "2020-07-14 18:10:43,373 : INFO : PROGRESS: at sentence #830000, processed 5987499 words, keeping 219585 word types\n",
      "2020-07-14 18:10:43,398 : INFO : PROGRESS: at sentence #840000, processed 6058973 words, keeping 221344 word types\n",
      "2020-07-14 18:10:43,429 : INFO : PROGRESS: at sentence #850000, processed 6131125 words, keeping 223002 word types\n",
      "2020-07-14 18:10:43,470 : INFO : PROGRESS: at sentence #860000, processed 6202951 words, keeping 224643 word types\n",
      "2020-07-14 18:10:43,513 : INFO : PROGRESS: at sentence #870000, processed 6275461 words, keeping 226362 word types\n",
      "2020-07-14 18:10:43,540 : INFO : PROGRESS: at sentence #880000, processed 6347661 words, keeping 227986 word types\n",
      "2020-07-14 18:10:43,569 : INFO : PROGRESS: at sentence #890000, processed 6419806 words, keeping 229634 word types\n",
      "2020-07-14 18:10:43,595 : INFO : PROGRESS: at sentence #900000, processed 6491644 words, keeping 231389 word types\n",
      "2020-07-14 18:10:43,625 : INFO : PROGRESS: at sentence #910000, processed 6564022 words, keeping 233050 word types\n",
      "2020-07-14 18:10:43,646 : INFO : PROGRESS: at sentence #920000, processed 6636228 words, keeping 234686 word types\n",
      "2020-07-14 18:10:43,675 : INFO : PROGRESS: at sentence #930000, processed 6708573 words, keeping 236393 word types\n",
      "2020-07-14 18:10:43,697 : INFO : PROGRESS: at sentence #940000, processed 6779956 words, keeping 238052 word types\n",
      "2020-07-14 18:10:43,726 : INFO : PROGRESS: at sentence #950000, processed 6852599 words, keeping 239716 word types\n",
      "2020-07-14 18:10:43,760 : INFO : PROGRESS: at sentence #960000, processed 6924717 words, keeping 241354 word types\n",
      "2020-07-14 18:10:43,786 : INFO : PROGRESS: at sentence #970000, processed 6996992 words, keeping 242980 word types\n",
      "2020-07-14 18:10:43,812 : INFO : PROGRESS: at sentence #980000, processed 7068402 words, keeping 244646 word types\n",
      "2020-07-14 18:10:43,835 : INFO : PROGRESS: at sentence #990000, processed 7140346 words, keeping 246186 word types\n",
      "2020-07-14 18:10:43,860 : INFO : PROGRESS: at sentence #1000000, processed 7211757 words, keeping 247726 word types\n",
      "2020-07-14 18:10:43,889 : INFO : PROGRESS: at sentence #1010000, processed 7283267 words, keeping 249288 word types\n",
      "2020-07-14 18:10:43,917 : INFO : PROGRESS: at sentence #1020000, processed 7355299 words, keeping 250860 word types\n",
      "2020-07-14 18:10:43,957 : INFO : PROGRESS: at sentence #1030000, processed 7426918 words, keeping 252366 word types\n",
      "2020-07-14 18:10:43,984 : INFO : PROGRESS: at sentence #1040000, processed 7498815 words, keeping 253930 word types\n",
      "2020-07-14 18:10:44,011 : INFO : PROGRESS: at sentence #1050000, processed 7570499 words, keeping 255471 word types\n",
      "2020-07-14 18:10:44,034 : INFO : PROGRESS: at sentence #1060000, processed 7643251 words, keeping 257035 word types\n",
      "2020-07-14 18:10:44,067 : INFO : PROGRESS: at sentence #1070000, processed 7714721 words, keeping 258509 word types\n",
      "2020-07-14 18:10:44,094 : INFO : PROGRESS: at sentence #1080000, processed 7787371 words, keeping 260071 word types\n",
      "2020-07-14 18:10:44,121 : INFO : PROGRESS: at sentence #1090000, processed 7859336 words, keeping 261683 word types\n",
      "2020-07-14 18:10:44,146 : INFO : PROGRESS: at sentence #1100000, processed 7932029 words, keeping 263278 word types\n",
      "2020-07-14 18:10:44,168 : INFO : PROGRESS: at sentence #1110000, processed 8004146 words, keeping 264800 word types\n",
      "2020-07-14 18:10:44,193 : INFO : PROGRESS: at sentence #1120000, processed 8075880 words, keeping 266309 word types\n",
      "2020-07-14 18:10:44,214 : INFO : PROGRESS: at sentence #1130000, processed 8148163 words, keeping 267826 word types\n",
      "2020-07-14 18:10:44,239 : INFO : PROGRESS: at sentence #1140000, processed 8220487 words, keeping 269391 word types\n",
      "2020-07-14 18:10:44,260 : INFO : PROGRESS: at sentence #1150000, processed 8292498 words, keeping 270894 word types\n",
      "2020-07-14 18:10:44,279 : INFO : PROGRESS: at sentence #1160000, processed 8363838 words, keeping 272400 word types\n",
      "2020-07-14 18:10:44,296 : INFO : PROGRESS: at sentence #1170000, processed 8435510 words, keeping 273970 word types\n",
      "2020-07-14 18:10:44,324 : INFO : PROGRESS: at sentence #1180000, processed 8507795 words, keeping 275521 word types\n",
      "2020-07-14 18:10:44,368 : INFO : PROGRESS: at sentence #1190000, processed 8579080 words, keeping 277007 word types\n",
      "2020-07-14 18:10:44,394 : INFO : PROGRESS: at sentence #1200000, processed 8650606 words, keeping 278457 word types\n",
      "2020-07-14 18:10:44,415 : INFO : PROGRESS: at sentence #1210000, processed 8721893 words, keeping 279959 word types\n",
      "2020-07-14 18:10:44,456 : INFO : PROGRESS: at sentence #1220000, processed 8793795 words, keeping 281427 word types\n",
      "2020-07-14 18:10:44,482 : INFO : PROGRESS: at sentence #1230000, processed 8865726 words, keeping 282981 word types\n",
      "2020-07-14 18:10:44,505 : INFO : PROGRESS: at sentence #1240000, processed 8938173 words, keeping 284542 word types\n",
      "2020-07-14 18:10:44,530 : INFO : PROGRESS: at sentence #1250000, processed 9010842 words, keeping 286064 word types\n",
      "2020-07-14 18:10:44,556 : INFO : PROGRESS: at sentence #1260000, processed 9083261 words, keeping 287521 word types\n",
      "2020-07-14 18:10:44,580 : INFO : PROGRESS: at sentence #1270000, processed 9155616 words, keeping 288987 word types\n",
      "2020-07-14 18:10:44,607 : INFO : collected 290418 word types from a corpus of 9227204 raw words and 1280000 sentences\n",
      "2020-07-14 18:10:44,608 : INFO : Loading a fresh vocabulary\n",
      "2020-07-14 18:10:46,036 : INFO : effective_min_count=10 retains 30369 unique words (10% of original 290418, drops 260049)\n",
      "2020-07-14 18:10:46,036 : INFO : effective_min_count=10 leaves 8780739 word corpus (95% of original 9227204, drops 446465)\n",
      "2020-07-14 18:10:46,159 : INFO : deleting the raw counts dictionary of 290418 items\n",
      "2020-07-14 18:10:46,172 : INFO : sample=0.001 downsamples 45 most-common words\n",
      "2020-07-14 18:10:46,172 : INFO : downsampling leaves estimated 8222658 word corpus (93.6% of prior 8780739)\n",
      "2020-07-14 18:10:46,390 : INFO : estimated required memory for 30369 words and 300 dimensions: 88070100 bytes\n",
      "2020-07-14 18:10:46,392 : INFO : resetting layer weights\n"
     ]
    }
   ],
   "source": [
    "w2v_model.build_vocab(documents)"
   ]
  },
  {
   "cell_type": "code",
   "execution_count": 18,
   "metadata": {
    "_uuid": "72a5628ca81fd4b8983c12d93ae0bf950b86b6ae"
   },
   "outputs": [
    {
     "name": "stdout",
     "output_type": "stream",
     "text": [
      "Vocab size 30369\n"
     ]
    }
   ],
   "source": [
    "words = w2v_model.wv.vocab.keys()\n",
    "vocab_size = len(words)\n",
    "print(\"Vocab size\", vocab_size)"
   ]
  },
  {
   "cell_type": "code",
   "execution_count": 19,
   "metadata": {
    "_uuid": "68c3e4a5ba07cac3dee67f78ecdd1404c7f83f14"
   },
   "outputs": [
    {
     "name": "stderr",
     "output_type": "stream",
     "text": [
      "2020-07-14 18:11:06,889 : INFO : training model with 8 workers on 30369 vocabulary and 300 features, using sg=0 hs=0 sample=0.001 negative=5 window=7\n",
      "2020-07-14 18:11:08,226 : INFO : EPOCH 1 - PROGRESS: at 0.11% examples, 7103 words/s, in_qsize 16, out_qsize 2\n",
      "2020-07-14 18:11:09,237 : INFO : EPOCH 1 - PROGRESS: at 8.69% examples, 314616 words/s, in_qsize 12, out_qsize 3\n",
      "2020-07-14 18:11:10,253 : INFO : EPOCH 1 - PROGRESS: at 13.36% examples, 334033 words/s, in_qsize 16, out_qsize 1\n",
      "2020-07-14 18:11:11,325 : INFO : EPOCH 1 - PROGRESS: at 21.67% examples, 409360 words/s, in_qsize 12, out_qsize 3\n",
      "2020-07-14 18:11:12,348 : INFO : EPOCH 1 - PROGRESS: at 30.56% examples, 467348 words/s, in_qsize 15, out_qsize 0\n",
      "2020-07-14 18:11:13,349 : INFO : EPOCH 1 - PROGRESS: at 37.70% examples, 486138 words/s, in_qsize 14, out_qsize 1\n",
      "2020-07-14 18:11:14,355 : INFO : EPOCH 1 - PROGRESS: at 45.70% examples, 509219 words/s, in_qsize 16, out_qsize 1\n",
      "2020-07-14 18:11:15,378 : INFO : EPOCH 1 - PROGRESS: at 54.78% examples, 536354 words/s, in_qsize 16, out_qsize 1\n",
      "2020-07-14 18:11:16,381 : INFO : EPOCH 1 - PROGRESS: at 62.68% examples, 548315 words/s, in_qsize 16, out_qsize 1\n",
      "2020-07-14 18:11:17,422 : INFO : EPOCH 1 - PROGRESS: at 70.27% examples, 553341 words/s, in_qsize 15, out_qsize 0\n",
      "2020-07-14 18:11:18,428 : INFO : EPOCH 1 - PROGRESS: at 76.88% examples, 552176 words/s, in_qsize 15, out_qsize 0\n",
      "2020-07-14 18:11:19,440 : INFO : EPOCH 1 - PROGRESS: at 85.88% examples, 566594 words/s, in_qsize 16, out_qsize 2\n",
      "2020-07-14 18:11:20,483 : INFO : EPOCH 1 - PROGRESS: at 94.80% examples, 576911 words/s, in_qsize 13, out_qsize 2\n",
      "2020-07-14 18:11:20,997 : INFO : worker thread finished; awaiting finish of 7 more threads\n",
      "2020-07-14 18:11:21,013 : INFO : worker thread finished; awaiting finish of 6 more threads\n",
      "2020-07-14 18:11:21,016 : INFO : worker thread finished; awaiting finish of 5 more threads\n",
      "2020-07-14 18:11:21,017 : INFO : worker thread finished; awaiting finish of 4 more threads\n",
      "2020-07-14 18:11:21,021 : INFO : worker thread finished; awaiting finish of 3 more threads\n",
      "2020-07-14 18:11:21,030 : INFO : worker thread finished; awaiting finish of 2 more threads\n",
      "2020-07-14 18:11:21,044 : INFO : worker thread finished; awaiting finish of 1 more threads\n",
      "2020-07-14 18:11:21,045 : INFO : worker thread finished; awaiting finish of 0 more threads\n",
      "2020-07-14 18:11:21,045 : INFO : EPOCH - 1 : training on 9227204 raw words (8222801 effective words) took 14.1s, 584294 effective words/s\n",
      "2020-07-14 18:11:22,136 : INFO : EPOCH 2 - PROGRESS: at 7.38% examples, 595923 words/s, in_qsize 16, out_qsize 1\n",
      "2020-07-14 18:11:23,136 : INFO : EPOCH 2 - PROGRESS: at 14.43% examples, 587493 words/s, in_qsize 13, out_qsize 2\n",
      "2020-07-14 18:11:24,152 : INFO : EPOCH 2 - PROGRESS: at 22.87% examples, 619689 words/s, in_qsize 16, out_qsize 6\n",
      "2020-07-14 18:11:25,159 : INFO : EPOCH 2 - PROGRESS: at 31.86% examples, 648292 words/s, in_qsize 16, out_qsize 0\n",
      "2020-07-14 18:11:26,190 : INFO : EPOCH 2 - PROGRESS: at 41.16% examples, 667617 words/s, in_qsize 15, out_qsize 0\n",
      "2020-07-14 18:11:27,190 : INFO : EPOCH 2 - PROGRESS: at 49.59% examples, 672044 words/s, in_qsize 13, out_qsize 2\n",
      "2020-07-14 18:11:28,204 : INFO : EPOCH 2 - PROGRESS: at 57.71% examples, 670185 words/s, in_qsize 14, out_qsize 1\n",
      "2020-07-14 18:11:29,215 : INFO : EPOCH 2 - PROGRESS: at 66.15% examples, 672358 words/s, in_qsize 15, out_qsize 0\n",
      "2020-07-14 18:11:30,232 : INFO : EPOCH 2 - PROGRESS: at 72.86% examples, 657934 words/s, in_qsize 14, out_qsize 1\n",
      "2020-07-14 18:11:31,234 : INFO : EPOCH 2 - PROGRESS: at 77.63% examples, 631549 words/s, in_qsize 15, out_qsize 0\n",
      "2020-07-14 18:11:32,258 : INFO : EPOCH 2 - PROGRESS: at 83.83% examples, 619068 words/s, in_qsize 15, out_qsize 2\n",
      "2020-07-14 18:11:33,274 : INFO : EPOCH 2 - PROGRESS: at 88.37% examples, 598084 words/s, in_qsize 13, out_qsize 3\n",
      "2020-07-14 18:11:34,298 : INFO : EPOCH 2 - PROGRESS: at 95.66% examples, 596888 words/s, in_qsize 13, out_qsize 2\n",
      "2020-07-14 18:11:34,801 : INFO : worker thread finished; awaiting finish of 7 more threads\n",
      "2020-07-14 18:11:34,805 : INFO : worker thread finished; awaiting finish of 6 more threads\n",
      "2020-07-14 18:11:34,811 : INFO : worker thread finished; awaiting finish of 5 more threads\n",
      "2020-07-14 18:11:34,820 : INFO : worker thread finished; awaiting finish of 4 more threads\n",
      "2020-07-14 18:11:34,829 : INFO : worker thread finished; awaiting finish of 3 more threads\n",
      "2020-07-14 18:11:34,856 : INFO : worker thread finished; awaiting finish of 2 more threads\n",
      "2020-07-14 18:11:34,860 : INFO : worker thread finished; awaiting finish of 1 more threads\n",
      "2020-07-14 18:11:34,862 : INFO : worker thread finished; awaiting finish of 0 more threads\n",
      "2020-07-14 18:11:34,862 : INFO : EPOCH - 2 : training on 9227204 raw words (8223056 effective words) took 13.7s, 598368 effective words/s\n",
      "2020-07-14 18:11:35,903 : INFO : EPOCH 3 - PROGRESS: at 7.93% examples, 629665 words/s, in_qsize 10, out_qsize 5\n",
      "2020-07-14 18:11:36,915 : INFO : EPOCH 3 - PROGRESS: at 17.24% examples, 692574 words/s, in_qsize 15, out_qsize 0\n",
      "2020-07-14 18:11:37,921 : INFO : EPOCH 3 - PROGRESS: at 25.69% examples, 692011 words/s, in_qsize 14, out_qsize 1\n",
      "2020-07-14 18:11:38,999 : INFO : EPOCH 3 - PROGRESS: at 34.02% examples, 677445 words/s, in_qsize 16, out_qsize 1\n",
      "2020-07-14 18:11:40,008 : INFO : EPOCH 3 - PROGRESS: at 41.59% examples, 665725 words/s, in_qsize 14, out_qsize 1\n",
      "2020-07-14 18:11:41,018 : INFO : EPOCH 3 - PROGRESS: at 50.24% examples, 672232 words/s, in_qsize 16, out_qsize 0\n",
      "2020-07-14 18:11:42,019 : INFO : EPOCH 3 - PROGRESS: at 55.43% examples, 638018 words/s, in_qsize 14, out_qsize 1\n",
      "2020-07-14 18:11:43,038 : INFO : EPOCH 3 - PROGRESS: at 63.22% examples, 636943 words/s, in_qsize 15, out_qsize 0\n",
      "2020-07-14 18:11:44,040 : INFO : EPOCH 3 - PROGRESS: at 72.10% examples, 646992 words/s, in_qsize 16, out_qsize 0\n",
      "2020-07-14 18:11:45,067 : INFO : EPOCH 3 - PROGRESS: at 80.36% examples, 648166 words/s, in_qsize 16, out_qsize 6\n",
      "2020-07-14 18:11:46,093 : INFO : EPOCH 3 - PROGRESS: at 89.02% examples, 652381 words/s, in_qsize 11, out_qsize 4\n",
      "2020-07-14 18:11:47,097 : INFO : EPOCH 3 - PROGRESS: at 98.47% examples, 662182 words/s, in_qsize 15, out_qsize 0\n",
      "2020-07-14 18:11:47,215 : INFO : worker thread finished; awaiting finish of 7 more threads\n",
      "2020-07-14 18:11:47,229 : INFO : worker thread finished; awaiting finish of 6 more threads\n",
      "2020-07-14 18:11:47,238 : INFO : worker thread finished; awaiting finish of 5 more threads\n",
      "2020-07-14 18:11:47,245 : INFO : worker thread finished; awaiting finish of 4 more threads\n",
      "2020-07-14 18:11:47,247 : INFO : worker thread finished; awaiting finish of 3 more threads\n",
      "2020-07-14 18:11:47,250 : INFO : worker thread finished; awaiting finish of 2 more threads\n",
      "2020-07-14 18:11:47,271 : INFO : worker thread finished; awaiting finish of 1 more threads\n",
      "2020-07-14 18:11:47,273 : INFO : worker thread finished; awaiting finish of 0 more threads\n",
      "2020-07-14 18:11:47,273 : INFO : EPOCH - 3 : training on 9227204 raw words (8222051 effective words) took 12.4s, 662900 effective words/s\n",
      "2020-07-14 18:11:48,336 : INFO : EPOCH 4 - PROGRESS: at 7.27% examples, 566211 words/s, in_qsize 15, out_qsize 0\n",
      "2020-07-14 18:11:49,344 : INFO : EPOCH 4 - PROGRESS: at 15.52% examples, 617751 words/s, in_qsize 15, out_qsize 0\n",
      "2020-07-14 18:11:50,355 : INFO : EPOCH 4 - PROGRESS: at 24.06% examples, 643624 words/s, in_qsize 12, out_qsize 3\n",
      "2020-07-14 18:11:51,370 : INFO : EPOCH 4 - PROGRESS: at 33.16% examples, 666741 words/s, in_qsize 15, out_qsize 0\n",
      "2020-07-14 18:11:52,414 : INFO : EPOCH 4 - PROGRESS: at 41.81% examples, 669975 words/s, in_qsize 16, out_qsize 4\n",
      "2020-07-14 18:11:53,459 : INFO : EPOCH 4 - PROGRESS: at 50.99% examples, 679360 words/s, in_qsize 13, out_qsize 2\n",
      "2020-07-14 18:11:54,485 : INFO : EPOCH 4 - PROGRESS: at 59.66% examples, 681467 words/s, in_qsize 16, out_qsize 5\n",
      "2020-07-14 18:11:55,493 : INFO : EPOCH 4 - PROGRESS: at 68.64% examples, 687892 words/s, in_qsize 13, out_qsize 2\n",
      "2020-07-14 18:11:56,508 : INFO : EPOCH 4 - PROGRESS: at 77.52% examples, 691366 words/s, in_qsize 15, out_qsize 0\n",
      "2020-07-14 18:11:57,571 : INFO : EPOCH 4 - PROGRESS: at 86.21% examples, 689197 words/s, in_qsize 10, out_qsize 5\n"
     ]
    },
    {
     "name": "stderr",
     "output_type": "stream",
     "text": [
      "2020-07-14 18:11:58,581 : INFO : EPOCH 4 - PROGRESS: at 94.90% examples, 690550 words/s, in_qsize 12, out_qsize 3\n",
      "2020-07-14 18:11:59,010 : INFO : worker thread finished; awaiting finish of 7 more threads\n",
      "2020-07-14 18:11:59,015 : INFO : worker thread finished; awaiting finish of 6 more threads\n",
      "2020-07-14 18:11:59,025 : INFO : worker thread finished; awaiting finish of 5 more threads\n",
      "2020-07-14 18:11:59,037 : INFO : worker thread finished; awaiting finish of 4 more threads\n",
      "2020-07-14 18:11:59,050 : INFO : worker thread finished; awaiting finish of 3 more threads\n",
      "2020-07-14 18:11:59,053 : INFO : worker thread finished; awaiting finish of 2 more threads\n",
      "2020-07-14 18:11:59,054 : INFO : worker thread finished; awaiting finish of 1 more threads\n",
      "2020-07-14 18:11:59,057 : INFO : worker thread finished; awaiting finish of 0 more threads\n",
      "2020-07-14 18:11:59,058 : INFO : EPOCH - 4 : training on 9227204 raw words (8222916 effective words) took 11.8s, 698270 effective words/s\n",
      "2020-07-14 18:12:00,083 : INFO : EPOCH 5 - PROGRESS: at 8.15% examples, 656848 words/s, in_qsize 14, out_qsize 1\n",
      "2020-07-14 18:12:01,083 : INFO : EPOCH 5 - PROGRESS: at 16.70% examples, 679698 words/s, in_qsize 16, out_qsize 1\n",
      "2020-07-14 18:12:02,090 : INFO : EPOCH 5 - PROGRESS: at 25.59% examples, 695000 words/s, in_qsize 15, out_qsize 0\n",
      "2020-07-14 18:12:03,124 : INFO : EPOCH 5 - PROGRESS: at 34.35% examples, 695764 words/s, in_qsize 15, out_qsize 0\n",
      "2020-07-14 18:12:04,143 : INFO : EPOCH 5 - PROGRESS: at 43.22% examples, 699994 words/s, in_qsize 12, out_qsize 3\n",
      "2020-07-14 18:12:05,150 : INFO : EPOCH 5 - PROGRESS: at 52.29% examples, 707238 words/s, in_qsize 15, out_qsize 0\n",
      "2020-07-14 18:12:06,179 : INFO : EPOCH 5 - PROGRESS: at 61.07% examples, 706334 words/s, in_qsize 16, out_qsize 1\n",
      "2020-07-14 18:12:07,199 : INFO : EPOCH 5 - PROGRESS: at 69.94% examples, 707522 words/s, in_qsize 14, out_qsize 1\n",
      "2020-07-14 18:12:08,233 : INFO : EPOCH 5 - PROGRESS: at 79.38% examples, 712236 words/s, in_qsize 16, out_qsize 0\n",
      "2020-07-14 18:12:09,258 : INFO : EPOCH 5 - PROGRESS: at 87.94% examples, 709635 words/s, in_qsize 16, out_qsize 2\n",
      "2020-07-14 18:12:10,258 : INFO : EPOCH 5 - PROGRESS: at 96.85% examples, 711417 words/s, in_qsize 15, out_qsize 0\n",
      "2020-07-14 18:12:10,522 : INFO : worker thread finished; awaiting finish of 7 more threads\n",
      "2020-07-14 18:12:10,541 : INFO : worker thread finished; awaiting finish of 6 more threads\n",
      "2020-07-14 18:12:10,545 : INFO : worker thread finished; awaiting finish of 5 more threads\n",
      "2020-07-14 18:12:10,547 : INFO : worker thread finished; awaiting finish of 4 more threads\n",
      "2020-07-14 18:12:10,581 : INFO : worker thread finished; awaiting finish of 3 more threads\n",
      "2020-07-14 18:12:10,588 : INFO : worker thread finished; awaiting finish of 2 more threads\n",
      "2020-07-14 18:12:10,590 : INFO : worker thread finished; awaiting finish of 1 more threads\n",
      "2020-07-14 18:12:10,594 : INFO : worker thread finished; awaiting finish of 0 more threads\n",
      "2020-07-14 18:12:10,595 : INFO : EPOCH - 5 : training on 9227204 raw words (8221965 effective words) took 11.5s, 713161 effective words/s\n",
      "2020-07-14 18:12:11,626 : INFO : EPOCH 6 - PROGRESS: at 8.25% examples, 661817 words/s, in_qsize 12, out_qsize 3\n",
      "2020-07-14 18:12:12,629 : INFO : EPOCH 6 - PROGRESS: at 16.92% examples, 685919 words/s, in_qsize 16, out_qsize 1\n",
      "2020-07-14 18:12:13,630 : INFO : EPOCH 6 - PROGRESS: at 25.69% examples, 697516 words/s, in_qsize 16, out_qsize 1\n",
      "2020-07-14 18:12:14,631 : INFO : EPOCH 6 - PROGRESS: at 33.81% examples, 690036 words/s, in_qsize 13, out_qsize 2\n",
      "2020-07-14 18:12:15,644 : INFO : EPOCH 6 - PROGRESS: at 41.26% examples, 673277 words/s, in_qsize 16, out_qsize 0\n",
      "2020-07-14 18:12:16,646 : INFO : EPOCH 6 - PROGRESS: at 47.00% examples, 639729 words/s, in_qsize 15, out_qsize 0\n",
      "2020-07-14 18:12:17,739 : INFO : EPOCH 6 - PROGRESS: at 52.73% examples, 608256 words/s, in_qsize 16, out_qsize 2\n",
      "2020-07-14 18:12:18,748 : INFO : EPOCH 6 - PROGRESS: at 59.01% examples, 596102 words/s, in_qsize 15, out_qsize 0\n",
      "2020-07-14 18:12:19,805 : INFO : EPOCH 6 - PROGRESS: at 66.79% examples, 597324 words/s, in_qsize 15, out_qsize 0\n",
      "2020-07-14 18:12:20,807 : INFO : EPOCH 6 - PROGRESS: at 71.56% examples, 577085 words/s, in_qsize 16, out_qsize 3\n",
      "2020-07-14 18:12:21,816 : INFO : EPOCH 6 - PROGRESS: at 77.20% examples, 566420 words/s, in_qsize 16, out_qsize 1\n",
      "2020-07-14 18:12:22,859 : INFO : EPOCH 6 - PROGRESS: at 85.56% examples, 574188 words/s, in_qsize 15, out_qsize 0\n",
      "2020-07-14 18:12:23,893 : INFO : EPOCH 6 - PROGRESS: at 94.58% examples, 585125 words/s, in_qsize 15, out_qsize 0\n",
      "2020-07-14 18:12:24,512 : INFO : worker thread finished; awaiting finish of 7 more threads\n",
      "2020-07-14 18:12:24,559 : INFO : worker thread finished; awaiting finish of 6 more threads\n",
      "2020-07-14 18:12:24,562 : INFO : worker thread finished; awaiting finish of 5 more threads\n",
      "2020-07-14 18:12:24,571 : INFO : worker thread finished; awaiting finish of 4 more threads\n",
      "2020-07-14 18:12:24,597 : INFO : worker thread finished; awaiting finish of 3 more threads\n",
      "2020-07-14 18:12:24,614 : INFO : worker thread finished; awaiting finish of 2 more threads\n",
      "2020-07-14 18:12:24,620 : INFO : worker thread finished; awaiting finish of 1 more threads\n",
      "2020-07-14 18:12:24,626 : INFO : worker thread finished; awaiting finish of 0 more threads\n",
      "2020-07-14 18:12:24,626 : INFO : EPOCH - 6 : training on 9227204 raw words (8222775 effective words) took 14.0s, 586358 effective words/s\n",
      "2020-07-14 18:12:25,665 : INFO : EPOCH 7 - PROGRESS: at 7.38% examples, 587322 words/s, in_qsize 13, out_qsize 2\n",
      "2020-07-14 18:12:26,699 : INFO : EPOCH 7 - PROGRESS: at 15.73% examples, 625311 words/s, in_qsize 13, out_qsize 2\n",
      "2020-07-14 18:12:27,725 : INFO : EPOCH 7 - PROGRESS: at 24.39% examples, 648250 words/s, in_qsize 16, out_qsize 0\n",
      "2020-07-14 18:12:28,744 : INFO : EPOCH 7 - PROGRESS: at 32.51% examples, 650169 words/s, in_qsize 15, out_qsize 0\n",
      "2020-07-14 18:12:29,782 : INFO : EPOCH 7 - PROGRESS: at 39.65% examples, 633220 words/s, in_qsize 15, out_qsize 0\n",
      "2020-07-14 18:12:30,783 : INFO : EPOCH 7 - PROGRESS: at 47.75% examples, 638832 words/s, in_qsize 16, out_qsize 0\n",
      "2020-07-14 18:12:31,797 : INFO : EPOCH 7 - PROGRESS: at 55.97% examples, 642944 words/s, in_qsize 15, out_qsize 0\n",
      "2020-07-14 18:12:32,831 : INFO : EPOCH 7 - PROGRESS: at 64.19% examples, 644421 words/s, in_qsize 16, out_qsize 2\n",
      "2020-07-14 18:12:33,840 : INFO : EPOCH 7 - PROGRESS: at 72.75% examples, 650197 words/s, in_qsize 15, out_qsize 0\n",
      "2020-07-14 18:12:34,876 : INFO : EPOCH 7 - PROGRESS: at 81.23% examples, 652244 words/s, in_qsize 14, out_qsize 1\n",
      "2020-07-14 18:12:35,891 : INFO : EPOCH 7 - PROGRESS: at 90.00% examples, 657513 words/s, in_qsize 15, out_qsize 0\n",
      "2020-07-14 18:12:36,901 : INFO : EPOCH 7 - PROGRESS: at 98.58% examples, 660716 words/s, in_qsize 13, out_qsize 1\n",
      "2020-07-14 18:12:36,997 : INFO : worker thread finished; awaiting finish of 7 more threads\n",
      "2020-07-14 18:12:37,002 : INFO : worker thread finished; awaiting finish of 6 more threads\n",
      "2020-07-14 18:12:37,013 : INFO : worker thread finished; awaiting finish of 5 more threads\n",
      "2020-07-14 18:12:37,015 : INFO : worker thread finished; awaiting finish of 4 more threads\n",
      "2020-07-14 18:12:37,026 : INFO : worker thread finished; awaiting finish of 3 more threads\n",
      "2020-07-14 18:12:37,055 : INFO : worker thread finished; awaiting finish of 2 more threads\n",
      "2020-07-14 18:12:37,058 : INFO : worker thread finished; awaiting finish of 1 more threads\n",
      "2020-07-14 18:12:37,059 : INFO : worker thread finished; awaiting finish of 0 more threads\n",
      "2020-07-14 18:12:37,060 : INFO : EPOCH - 7 : training on 9227204 raw words (8221768 effective words) took 12.4s, 661659 effective words/s\n",
      "2020-07-14 18:12:38,073 : INFO : EPOCH 8 - PROGRESS: at 8.15% examples, 667392 words/s, in_qsize 16, out_qsize 1\n",
      "2020-07-14 18:12:39,114 : INFO : EPOCH 8 - PROGRESS: at 16.70% examples, 671787 words/s, in_qsize 14, out_qsize 1\n",
      "2020-07-14 18:12:40,120 : INFO : EPOCH 8 - PROGRESS: at 24.94% examples, 672177 words/s, in_qsize 14, out_qsize 1\n",
      "2020-07-14 18:12:41,157 : INFO : EPOCH 8 - PROGRESS: at 33.59% examples, 676032 words/s, in_qsize 16, out_qsize 1\n",
      "2020-07-14 18:12:42,196 : INFO : EPOCH 8 - PROGRESS: at 42.89% examples, 688631 words/s, in_qsize 16, out_qsize 1\n"
     ]
    },
    {
     "name": "stderr",
     "output_type": "stream",
     "text": [
      "2020-07-14 18:12:43,213 : INFO : EPOCH 8 - PROGRESS: at 51.54% examples, 690692 words/s, in_qsize 12, out_qsize 3\n",
      "2020-07-14 18:12:44,215 : INFO : EPOCH 8 - PROGRESS: at 60.85% examples, 701123 words/s, in_qsize 16, out_qsize 0\n",
      "2020-07-14 18:12:45,237 : INFO : EPOCH 8 - PROGRESS: at 69.07% examples, 696322 words/s, in_qsize 12, out_qsize 3\n",
      "2020-07-14 18:12:46,253 : INFO : EPOCH 8 - PROGRESS: at 78.18% examples, 700676 words/s, in_qsize 15, out_qsize 0\n",
      "2020-07-14 18:12:47,258 : INFO : EPOCH 8 - PROGRESS: at 86.85% examples, 701540 words/s, in_qsize 15, out_qsize 0\n",
      "2020-07-14 18:12:48,288 : INFO : EPOCH 8 - PROGRESS: at 96.09% examples, 704519 words/s, in_qsize 14, out_qsize 1\n",
      "2020-07-14 18:12:48,651 : INFO : worker thread finished; awaiting finish of 7 more threads\n",
      "2020-07-14 18:12:48,654 : INFO : worker thread finished; awaiting finish of 6 more threads\n",
      "2020-07-14 18:12:48,657 : INFO : worker thread finished; awaiting finish of 5 more threads\n",
      "2020-07-14 18:12:48,660 : INFO : worker thread finished; awaiting finish of 4 more threads\n",
      "2020-07-14 18:12:48,674 : INFO : worker thread finished; awaiting finish of 3 more threads\n",
      "2020-07-14 18:12:48,690 : INFO : worker thread finished; awaiting finish of 2 more threads\n",
      "2020-07-14 18:12:48,716 : INFO : worker thread finished; awaiting finish of 1 more threads\n",
      "2020-07-14 18:12:48,721 : INFO : worker thread finished; awaiting finish of 0 more threads\n",
      "2020-07-14 18:12:48,722 : INFO : EPOCH - 8 : training on 9227204 raw words (8223179 effective words) took 11.6s, 705869 effective words/s\n",
      "2020-07-14 18:12:49,770 : INFO : EPOCH 9 - PROGRESS: at 8.36% examples, 659920 words/s, in_qsize 10, out_qsize 5\n",
      "2020-07-14 18:12:50,774 : INFO : EPOCH 9 - PROGRESS: at 17.78% examples, 714986 words/s, in_qsize 16, out_qsize 0\n",
      "2020-07-14 18:12:51,782 : INFO : EPOCH 9 - PROGRESS: at 26.34% examples, 709563 words/s, in_qsize 15, out_qsize 0\n",
      "2020-07-14 18:12:52,811 : INFO : EPOCH 9 - PROGRESS: at 35.10% examples, 707536 words/s, in_qsize 15, out_qsize 0\n",
      "2020-07-14 18:12:53,874 : INFO : EPOCH 9 - PROGRESS: at 41.70% examples, 666808 words/s, in_qsize 13, out_qsize 2\n",
      "2020-07-14 18:12:54,900 : INFO : EPOCH 9 - PROGRESS: at 49.16% examples, 655649 words/s, in_qsize 9, out_qsize 6\n",
      "2020-07-14 18:12:55,914 : INFO : EPOCH 9 - PROGRESS: at 58.47% examples, 669812 words/s, in_qsize 14, out_qsize 1\n",
      "2020-07-14 18:12:56,918 : INFO : EPOCH 9 - PROGRESS: at 66.91% examples, 672519 words/s, in_qsize 13, out_qsize 4\n",
      "2020-07-14 18:12:57,943 : INFO : EPOCH 9 - PROGRESS: at 75.78% examples, 676975 words/s, in_qsize 12, out_qsize 3\n",
      "2020-07-14 18:12:58,958 : INFO : EPOCH 9 - PROGRESS: at 84.37% examples, 678607 words/s, in_qsize 12, out_qsize 3\n",
      "2020-07-14 18:12:59,995 : INFO : EPOCH 9 - PROGRESS: at 93.59% examples, 683290 words/s, in_qsize 13, out_qsize 2\n",
      "2020-07-14 18:13:00,651 : INFO : worker thread finished; awaiting finish of 7 more threads\n",
      "2020-07-14 18:13:00,655 : INFO : worker thread finished; awaiting finish of 6 more threads\n",
      "2020-07-14 18:13:00,663 : INFO : worker thread finished; awaiting finish of 5 more threads\n",
      "2020-07-14 18:13:00,664 : INFO : worker thread finished; awaiting finish of 4 more threads\n",
      "2020-07-14 18:13:00,669 : INFO : worker thread finished; awaiting finish of 3 more threads\n",
      "2020-07-14 18:13:00,714 : INFO : worker thread finished; awaiting finish of 2 more threads\n",
      "2020-07-14 18:13:00,719 : INFO : worker thread finished; awaiting finish of 1 more threads\n",
      "2020-07-14 18:13:00,723 : INFO : worker thread finished; awaiting finish of 0 more threads\n",
      "2020-07-14 18:13:00,724 : INFO : EPOCH - 9 : training on 9227204 raw words (8222744 effective words) took 12.0s, 685628 effective words/s\n",
      "2020-07-14 18:13:01,773 : INFO : EPOCH 10 - PROGRESS: at 8.37% examples, 664474 words/s, in_qsize 14, out_qsize 1\n",
      "2020-07-14 18:13:02,807 : INFO : EPOCH 10 - PROGRESS: at 17.02% examples, 676775 words/s, in_qsize 15, out_qsize 3\n",
      "2020-07-14 18:13:03,842 : INFO : EPOCH 10 - PROGRESS: at 26.56% examples, 703562 words/s, in_qsize 15, out_qsize 1\n",
      "2020-07-14 18:13:04,848 : INFO : EPOCH 10 - PROGRESS: at 35.00% examples, 700490 words/s, in_qsize 16, out_qsize 0\n",
      "2020-07-14 18:13:05,864 : INFO : EPOCH 10 - PROGRESS: at 43.86% examples, 704039 words/s, in_qsize 14, out_qsize 1\n",
      "2020-07-14 18:13:06,886 : INFO : EPOCH 10 - PROGRESS: at 52.62% examples, 704431 words/s, in_qsize 15, out_qsize 0\n",
      "2020-07-14 18:13:07,910 : INFO : EPOCH 10 - PROGRESS: at 61.50% examples, 705715 words/s, in_qsize 15, out_qsize 0\n",
      "2020-07-14 18:13:08,925 : INFO : EPOCH 10 - PROGRESS: at 70.16% examples, 705286 words/s, in_qsize 16, out_qsize 1\n",
      "2020-07-14 18:13:09,961 : INFO : EPOCH 10 - PROGRESS: at 79.27% examples, 707169 words/s, in_qsize 16, out_qsize 0\n",
      "2020-07-14 18:13:10,975 : INFO : EPOCH 10 - PROGRESS: at 87.83% examples, 705872 words/s, in_qsize 15, out_qsize 1\n",
      "2020-07-14 18:13:12,027 : INFO : EPOCH 10 - PROGRESS: at 95.99% examples, 699168 words/s, in_qsize 16, out_qsize 1\n",
      "2020-07-14 18:13:12,560 : INFO : worker thread finished; awaiting finish of 7 more threads\n",
      "2020-07-14 18:13:12,561 : INFO : worker thread finished; awaiting finish of 6 more threads\n",
      "2020-07-14 18:13:12,562 : INFO : worker thread finished; awaiting finish of 5 more threads\n",
      "2020-07-14 18:13:12,573 : INFO : worker thread finished; awaiting finish of 4 more threads\n",
      "2020-07-14 18:13:12,576 : INFO : worker thread finished; awaiting finish of 3 more threads\n",
      "2020-07-14 18:13:12,601 : INFO : worker thread finished; awaiting finish of 2 more threads\n",
      "2020-07-14 18:13:12,619 : INFO : worker thread finished; awaiting finish of 1 more threads\n",
      "2020-07-14 18:13:12,622 : INFO : worker thread finished; awaiting finish of 0 more threads\n",
      "2020-07-14 18:13:12,623 : INFO : EPOCH - 10 : training on 9227204 raw words (8221846 effective words) took 11.9s, 691925 effective words/s\n",
      "2020-07-14 18:13:13,672 : INFO : EPOCH 11 - PROGRESS: at 6.19% examples, 488614 words/s, in_qsize 15, out_qsize 0\n",
      "2020-07-14 18:13:14,700 : INFO : EPOCH 11 - PROGRESS: at 14.22% examples, 564599 words/s, in_qsize 14, out_qsize 1\n",
      "2020-07-14 18:13:15,715 : INFO : EPOCH 11 - PROGRESS: at 22.22% examples, 592446 words/s, in_qsize 16, out_qsize 3\n",
      "2020-07-14 18:13:16,748 : INFO : EPOCH 11 - PROGRESS: at 31.64% examples, 632261 words/s, in_qsize 14, out_qsize 1\n",
      "2020-07-14 18:13:17,771 : INFO : EPOCH 11 - PROGRESS: at 40.73% examples, 651988 words/s, in_qsize 16, out_qsize 0\n",
      "2020-07-14 18:13:18,772 : INFO : EPOCH 11 - PROGRESS: at 48.51% examples, 650168 words/s, in_qsize 16, out_qsize 6\n",
      "2020-07-14 18:13:19,786 : INFO : EPOCH 11 - PROGRESS: at 57.81% examples, 665166 words/s, in_qsize 15, out_qsize 0\n",
      "2020-07-14 18:13:20,815 : INFO : EPOCH 11 - PROGRESS: at 66.26% examples, 666371 words/s, in_qsize 15, out_qsize 0\n",
      "2020-07-14 18:13:21,818 : INFO : EPOCH 11 - PROGRESS: at 74.92% examples, 671214 words/s, in_qsize 15, out_qsize 0\n",
      "2020-07-14 18:13:22,823 : INFO : EPOCH 11 - PROGRESS: at 83.62% examples, 674890 words/s, in_qsize 15, out_qsize 0\n",
      "2020-07-14 18:13:23,831 : INFO : EPOCH 11 - PROGRESS: at 92.83% examples, 681719 words/s, in_qsize 15, out_qsize 0\n",
      "2020-07-14 18:13:24,558 : INFO : worker thread finished; awaiting finish of 7 more threads\n",
      "2020-07-14 18:13:24,566 : INFO : worker thread finished; awaiting finish of 6 more threads\n",
      "2020-07-14 18:13:24,583 : INFO : worker thread finished; awaiting finish of 5 more threads\n",
      "2020-07-14 18:13:24,587 : INFO : worker thread finished; awaiting finish of 4 more threads\n",
      "2020-07-14 18:13:24,589 : INFO : worker thread finished; awaiting finish of 3 more threads\n",
      "2020-07-14 18:13:24,594 : INFO : worker thread finished; awaiting finish of 2 more threads\n",
      "2020-07-14 18:13:24,595 : INFO : worker thread finished; awaiting finish of 1 more threads\n",
      "2020-07-14 18:13:24,617 : INFO : worker thread finished; awaiting finish of 0 more threads\n",
      "2020-07-14 18:13:24,618 : INFO : EPOCH - 11 : training on 9227204 raw words (8222901 effective words) took 12.0s, 686069 effective words/s\n",
      "2020-07-14 18:13:25,657 : INFO : EPOCH 12 - PROGRESS: at 8.04% examples, 640033 words/s, in_qsize 12, out_qsize 3\n",
      "2020-07-14 18:13:26,681 : INFO : EPOCH 12 - PROGRESS: at 17.03% examples, 680930 words/s, in_qsize 14, out_qsize 1\n",
      "2020-07-14 18:13:27,698 : INFO : EPOCH 12 - PROGRESS: at 25.04% examples, 670027 words/s, in_qsize 16, out_qsize 0\n"
     ]
    },
    {
     "name": "stderr",
     "output_type": "stream",
     "text": [
      "2020-07-14 18:13:28,726 : INFO : EPOCH 12 - PROGRESS: at 33.37% examples, 669359 words/s, in_qsize 14, out_qsize 1\n",
      "2020-07-14 18:13:29,727 : INFO : EPOCH 12 - PROGRESS: at 42.57% examples, 686536 words/s, in_qsize 16, out_qsize 0\n",
      "2020-07-14 18:13:30,731 : INFO : EPOCH 12 - PROGRESS: at 51.32% examples, 691750 words/s, in_qsize 15, out_qsize 0\n",
      "2020-07-14 18:13:31,736 : INFO : EPOCH 12 - PROGRESS: at 60.52% examples, 700597 words/s, in_qsize 16, out_qsize 0\n",
      "2020-07-14 18:13:32,739 : INFO : EPOCH 12 - PROGRESS: at 69.40% examples, 703936 words/s, in_qsize 14, out_qsize 1\n",
      "2020-07-14 18:13:33,760 : INFO : EPOCH 12 - PROGRESS: at 78.62% examples, 708155 words/s, in_qsize 16, out_qsize 1\n",
      "2020-07-14 18:13:34,792 : INFO : EPOCH 12 - PROGRESS: at 87.51% examples, 708060 words/s, in_qsize 16, out_qsize 2\n",
      "2020-07-14 18:13:35,813 : INFO : EPOCH 12 - PROGRESS: at 96.31% examples, 707861 words/s, in_qsize 16, out_qsize 1\n",
      "2020-07-14 18:13:36,156 : INFO : worker thread finished; awaiting finish of 7 more threads\n",
      "2020-07-14 18:13:36,173 : INFO : worker thread finished; awaiting finish of 6 more threads\n",
      "2020-07-14 18:13:36,180 : INFO : worker thread finished; awaiting finish of 5 more threads\n",
      "2020-07-14 18:13:36,181 : INFO : worker thread finished; awaiting finish of 4 more threads\n",
      "2020-07-14 18:13:36,183 : INFO : worker thread finished; awaiting finish of 3 more threads\n",
      "2020-07-14 18:13:36,219 : INFO : worker thread finished; awaiting finish of 2 more threads\n",
      "2020-07-14 18:13:36,224 : INFO : worker thread finished; awaiting finish of 1 more threads\n",
      "2020-07-14 18:13:36,234 : INFO : worker thread finished; awaiting finish of 0 more threads\n",
      "2020-07-14 18:13:36,234 : INFO : EPOCH - 12 : training on 9227204 raw words (8221983 effective words) took 11.6s, 708354 effective words/s\n",
      "2020-07-14 18:13:37,277 : INFO : EPOCH 13 - PROGRESS: at 8.15% examples, 646589 words/s, in_qsize 14, out_qsize 1\n",
      "2020-07-14 18:13:38,325 : INFO : EPOCH 13 - PROGRESS: at 17.35% examples, 684512 words/s, in_qsize 11, out_qsize 4\n",
      "2020-07-14 18:13:39,335 : INFO : EPOCH 13 - PROGRESS: at 26.78% examples, 711784 words/s, in_qsize 15, out_qsize 0\n",
      "2020-07-14 18:13:40,344 : INFO : EPOCH 13 - PROGRESS: at 35.42% examples, 710479 words/s, in_qsize 15, out_qsize 0\n",
      "2020-07-14 18:13:41,381 : INFO : EPOCH 13 - PROGRESS: at 44.40% examples, 710994 words/s, in_qsize 14, out_qsize 1\n",
      "2020-07-14 18:13:42,411 : INFO : EPOCH 13 - PROGRESS: at 53.59% examples, 715041 words/s, in_qsize 13, out_qsize 2\n",
      "2020-07-14 18:13:43,453 : INFO : EPOCH 13 - PROGRESS: at 62.68% examples, 715534 words/s, in_qsize 15, out_qsize 4\n",
      "2020-07-14 18:13:44,463 : INFO : EPOCH 13 - PROGRESS: at 72.43% examples, 725157 words/s, in_qsize 15, out_qsize 0\n",
      "2020-07-14 18:13:45,468 : INFO : EPOCH 13 - PROGRESS: at 80.90% examples, 721459 words/s, in_qsize 14, out_qsize 1\n",
      "2020-07-14 18:13:46,499 : INFO : EPOCH 13 - PROGRESS: at 89.78% examples, 720129 words/s, in_qsize 14, out_qsize 1\n",
      "2020-07-14 18:13:47,512 : INFO : EPOCH 13 - PROGRESS: at 98.58% examples, 719372 words/s, in_qsize 13, out_qsize 1\n",
      "2020-07-14 18:13:47,583 : INFO : worker thread finished; awaiting finish of 7 more threads\n",
      "2020-07-14 18:13:47,596 : INFO : worker thread finished; awaiting finish of 6 more threads\n",
      "2020-07-14 18:13:47,604 : INFO : worker thread finished; awaiting finish of 5 more threads\n",
      "2020-07-14 18:13:47,623 : INFO : worker thread finished; awaiting finish of 4 more threads\n",
      "2020-07-14 18:13:47,652 : INFO : worker thread finished; awaiting finish of 3 more threads\n",
      "2020-07-14 18:13:47,653 : INFO : worker thread finished; awaiting finish of 2 more threads\n",
      "2020-07-14 18:13:47,658 : INFO : worker thread finished; awaiting finish of 1 more threads\n",
      "2020-07-14 18:13:47,662 : INFO : worker thread finished; awaiting finish of 0 more threads\n",
      "2020-07-14 18:13:47,663 : INFO : EPOCH - 13 : training on 9227204 raw words (8223416 effective words) took 11.4s, 720117 effective words/s\n",
      "2020-07-14 18:13:48,684 : INFO : EPOCH 14 - PROGRESS: at 8.26% examples, 668174 words/s, in_qsize 15, out_qsize 0\n",
      "2020-07-14 18:13:49,744 : INFO : EPOCH 14 - PROGRESS: at 17.46% examples, 691510 words/s, in_qsize 15, out_qsize 0\n",
      "2020-07-14 18:13:50,745 : INFO : EPOCH 14 - PROGRESS: at 26.02% examples, 695575 words/s, in_qsize 15, out_qsize 0\n",
      "2020-07-14 18:13:51,761 : INFO : EPOCH 14 - PROGRESS: at 34.78% examples, 699137 words/s, in_qsize 16, out_qsize 0\n",
      "2020-07-14 18:13:52,788 : INFO : EPOCH 14 - PROGRESS: at 43.54% examples, 699784 words/s, in_qsize 12, out_qsize 4\n",
      "2020-07-14 18:13:53,802 : INFO : EPOCH 14 - PROGRESS: at 52.73% examples, 707650 words/s, in_qsize 14, out_qsize 1\n",
      "2020-07-14 18:13:54,816 : INFO : EPOCH 14 - PROGRESS: at 61.17% examples, 704528 words/s, in_qsize 15, out_qsize 0\n",
      "2020-07-14 18:13:55,823 : INFO : EPOCH 14 - PROGRESS: at 69.94% examples, 705908 words/s, in_qsize 15, out_qsize 0\n",
      "2020-07-14 18:13:56,835 : INFO : EPOCH 14 - PROGRESS: at 78.83% examples, 707652 words/s, in_qsize 14, out_qsize 1\n",
      "2020-07-14 18:13:57,902 : INFO : EPOCH 14 - PROGRESS: at 87.61% examples, 704343 words/s, in_qsize 15, out_qsize 0\n",
      "2020-07-14 18:13:58,906 : INFO : EPOCH 14 - PROGRESS: at 96.53% examples, 706370 words/s, in_qsize 16, out_qsize 0\n",
      "2020-07-14 18:13:59,232 : INFO : worker thread finished; awaiting finish of 7 more threads\n",
      "2020-07-14 18:13:59,234 : INFO : worker thread finished; awaiting finish of 6 more threads\n",
      "2020-07-14 18:13:59,241 : INFO : worker thread finished; awaiting finish of 5 more threads\n",
      "2020-07-14 18:13:59,245 : INFO : worker thread finished; awaiting finish of 4 more threads\n",
      "2020-07-14 18:13:59,259 : INFO : worker thread finished; awaiting finish of 3 more threads\n",
      "2020-07-14 18:13:59,261 : INFO : worker thread finished; awaiting finish of 2 more threads\n",
      "2020-07-14 18:13:59,280 : INFO : worker thread finished; awaiting finish of 1 more threads\n",
      "2020-07-14 18:13:59,281 : INFO : worker thread finished; awaiting finish of 0 more threads\n",
      "2020-07-14 18:13:59,284 : INFO : EPOCH - 14 : training on 9227204 raw words (8222218 effective words) took 11.6s, 707982 effective words/s\n",
      "2020-07-14 18:14:00,296 : INFO : EPOCH 15 - PROGRESS: at 8.04% examples, 658436 words/s, in_qsize 14, out_qsize 1\n",
      "2020-07-14 18:14:01,305 : INFO : EPOCH 15 - PROGRESS: at 16.70% examples, 682188 words/s, in_qsize 14, out_qsize 1\n",
      "2020-07-14 18:14:02,308 : INFO : EPOCH 15 - PROGRESS: at 25.59% examples, 697683 words/s, in_qsize 15, out_qsize 0\n",
      "2020-07-14 18:14:03,334 : INFO : EPOCH 15 - PROGRESS: at 34.35% examples, 699030 words/s, in_qsize 16, out_qsize 1\n",
      "2020-07-14 18:14:04,346 : INFO : EPOCH 15 - PROGRESS: at 43.00% examples, 700201 words/s, in_qsize 16, out_qsize 6\n",
      "2020-07-14 18:14:05,353 : INFO : EPOCH 15 - PROGRESS: at 51.75% examples, 702949 words/s, in_qsize 15, out_qsize 0\n",
      "2020-07-14 18:14:06,359 : INFO : EPOCH 15 - PROGRESS: at 60.30% examples, 702531 words/s, in_qsize 12, out_qsize 3\n",
      "2020-07-14 18:14:07,389 : INFO : EPOCH 15 - PROGRESS: at 69.50% examples, 706691 words/s, in_qsize 16, out_qsize 1\n",
      "2020-07-14 18:14:08,433 : INFO : EPOCH 15 - PROGRESS: at 78.51% examples, 706799 words/s, in_qsize 13, out_qsize 2\n",
      "2020-07-14 18:14:09,499 : INFO : EPOCH 15 - PROGRESS: at 87.83% examples, 707994 words/s, in_qsize 9, out_qsize 6\n",
      "2020-07-14 18:14:10,511 : INFO : EPOCH 15 - PROGRESS: at 96.75% examples, 709199 words/s, in_qsize 15, out_qsize 0\n",
      "2020-07-14 18:14:10,800 : INFO : worker thread finished; awaiting finish of 7 more threads\n",
      "2020-07-14 18:14:10,809 : INFO : worker thread finished; awaiting finish of 6 more threads\n",
      "2020-07-14 18:14:10,829 : INFO : worker thread finished; awaiting finish of 5 more threads\n",
      "2020-07-14 18:14:10,830 : INFO : worker thread finished; awaiting finish of 4 more threads\n",
      "2020-07-14 18:14:10,831 : INFO : worker thread finished; awaiting finish of 3 more threads\n",
      "2020-07-14 18:14:10,856 : INFO : worker thread finished; awaiting finish of 2 more threads\n",
      "2020-07-14 18:14:10,861 : INFO : worker thread finished; awaiting finish of 1 more threads\n",
      "2020-07-14 18:14:10,864 : INFO : worker thread finished; awaiting finish of 0 more threads\n",
      "2020-07-14 18:14:10,865 : INFO : EPOCH - 15 : training on 9227204 raw words (8222285 effective words) took 11.6s, 710672 effective words/s\n",
      "2020-07-14 18:14:11,880 : INFO : EPOCH 16 - PROGRESS: at 8.25% examples, 675458 words/s, in_qsize 14, out_qsize 1\n"
     ]
    },
    {
     "name": "stderr",
     "output_type": "stream",
     "text": [
      "2020-07-14 18:14:12,922 : INFO : EPOCH 16 - PROGRESS: at 17.24% examples, 692632 words/s, in_qsize 16, out_qsize 1\n",
      "2020-07-14 18:14:13,976 : INFO : EPOCH 16 - PROGRESS: at 26.45% examples, 701680 words/s, in_qsize 12, out_qsize 3\n",
      "2020-07-14 18:14:15,014 : INFO : EPOCH 16 - PROGRESS: at 35.86% examples, 712853 words/s, in_qsize 13, out_qsize 2\n",
      "2020-07-14 18:14:16,027 : INFO : EPOCH 16 - PROGRESS: at 44.18% examples, 705947 words/s, in_qsize 15, out_qsize 0\n",
      "2020-07-14 18:14:17,059 : INFO : EPOCH 16 - PROGRESS: at 52.95% examples, 704825 words/s, in_qsize 16, out_qsize 0\n",
      "2020-07-14 18:14:18,063 : INFO : EPOCH 16 - PROGRESS: at 61.28% examples, 701796 words/s, in_qsize 13, out_qsize 2\n",
      "2020-07-14 18:14:19,077 : INFO : EPOCH 16 - PROGRESS: at 70.16% examples, 704100 words/s, in_qsize 14, out_qsize 1\n",
      "2020-07-14 18:14:20,101 : INFO : EPOCH 16 - PROGRESS: at 78.84% examples, 703117 words/s, in_qsize 15, out_qsize 0\n",
      "2020-07-14 18:14:21,122 : INFO : EPOCH 16 - PROGRESS: at 87.62% examples, 703476 words/s, in_qsize 15, out_qsize 0\n",
      "2020-07-14 18:14:22,124 : INFO : EPOCH 16 - PROGRESS: at 96.42% examples, 704890 words/s, in_qsize 16, out_qsize 0\n",
      "2020-07-14 18:14:22,624 : INFO : worker thread finished; awaiting finish of 7 more threads\n",
      "2020-07-14 18:14:22,633 : INFO : worker thread finished; awaiting finish of 6 more threads\n",
      "2020-07-14 18:14:22,641 : INFO : worker thread finished; awaiting finish of 5 more threads\n",
      "2020-07-14 18:14:22,657 : INFO : worker thread finished; awaiting finish of 4 more threads\n",
      "2020-07-14 18:14:22,687 : INFO : worker thread finished; awaiting finish of 3 more threads\n",
      "2020-07-14 18:14:22,689 : INFO : worker thread finished; awaiting finish of 2 more threads\n",
      "2020-07-14 18:14:22,693 : INFO : worker thread finished; awaiting finish of 1 more threads\n",
      "2020-07-14 18:14:22,697 : INFO : worker thread finished; awaiting finish of 0 more threads\n",
      "2020-07-14 18:14:22,698 : INFO : EPOCH - 16 : training on 9227204 raw words (8222214 effective words) took 11.8s, 695597 effective words/s\n",
      "2020-07-14 18:14:24,128 : INFO : EPOCH 17 - PROGRESS: at 7.38% examples, 596950 words/s, in_qsize 14, out_qsize 1\n",
      "2020-07-14 18:14:25,159 : INFO : EPOCH 17 - PROGRESS: at 16.16% examples, 648669 words/s, in_qsize 14, out_qsize 1\n",
      "2020-07-14 18:14:26,175 : INFO : EPOCH 17 - PROGRESS: at 22.33% examples, 599582 words/s, in_qsize 15, out_qsize 0\n",
      "2020-07-14 18:14:27,208 : INFO : EPOCH 17 - PROGRESS: at 26.99% examples, 541905 words/s, in_qsize 15, out_qsize 0\n",
      "2020-07-14 18:14:28,219 : INFO : EPOCH 17 - PROGRESS: at 34.78% examples, 560192 words/s, in_qsize 14, out_qsize 1\n",
      "2020-07-14 18:14:29,232 : INFO : EPOCH 17 - PROGRESS: at 43.32% examples, 582457 words/s, in_qsize 14, out_qsize 1\n",
      "2020-07-14 18:14:30,234 : INFO : EPOCH 17 - PROGRESS: at 51.43% examples, 594349 words/s, in_qsize 15, out_qsize 0\n",
      "2020-07-14 18:14:31,246 : INFO : EPOCH 17 - PROGRESS: at 59.97% examples, 606969 words/s, in_qsize 16, out_qsize 0\n",
      "2020-07-14 18:14:32,285 : INFO : EPOCH 17 - PROGRESS: at 69.29% examples, 621693 words/s, in_qsize 15, out_qsize 0\n",
      "2020-07-14 18:14:33,312 : INFO : EPOCH 17 - PROGRESS: at 78.51% examples, 633322 words/s, in_qsize 14, out_qsize 1\n",
      "2020-07-14 18:14:34,314 : INFO : EPOCH 17 - PROGRESS: at 87.29% examples, 641016 words/s, in_qsize 14, out_qsize 1\n",
      "2020-07-14 18:14:35,334 : INFO : EPOCH 17 - PROGRESS: at 95.88% examples, 645095 words/s, in_qsize 14, out_qsize 1\n",
      "2020-07-14 18:14:35,715 : INFO : worker thread finished; awaiting finish of 7 more threads\n",
      "2020-07-14 18:14:35,719 : INFO : worker thread finished; awaiting finish of 6 more threads\n",
      "2020-07-14 18:14:35,727 : INFO : worker thread finished; awaiting finish of 5 more threads\n",
      "2020-07-14 18:14:35,740 : INFO : worker thread finished; awaiting finish of 4 more threads\n",
      "2020-07-14 18:14:35,746 : INFO : worker thread finished; awaiting finish of 3 more threads\n",
      "2020-07-14 18:14:35,753 : INFO : worker thread finished; awaiting finish of 2 more threads\n",
      "2020-07-14 18:14:35,771 : INFO : worker thread finished; awaiting finish of 1 more threads\n",
      "2020-07-14 18:14:35,776 : INFO : worker thread finished; awaiting finish of 0 more threads\n",
      "2020-07-14 18:14:35,777 : INFO : EPOCH - 17 : training on 9227204 raw words (8222752 effective words) took 12.7s, 649342 effective words/s\n",
      "2020-07-14 18:14:36,824 : INFO : EPOCH 18 - PROGRESS: at 6.95% examples, 554914 words/s, in_qsize 12, out_qsize 3\n",
      "2020-07-14 18:14:37,840 : INFO : EPOCH 18 - PROGRESS: at 15.73% examples, 632036 words/s, in_qsize 15, out_qsize 2\n",
      "2020-07-14 18:14:38,844 : INFO : EPOCH 18 - PROGRESS: at 24.72% examples, 666630 words/s, in_qsize 16, out_qsize 1\n",
      "2020-07-14 18:14:39,853 : INFO : EPOCH 18 - PROGRESS: at 33.59% examples, 680856 words/s, in_qsize 15, out_qsize 0\n",
      "2020-07-14 18:14:40,890 : INFO : EPOCH 18 - PROGRESS: at 42.35% examples, 683976 words/s, in_qsize 14, out_qsize 6\n",
      "2020-07-14 18:14:41,922 : INFO : EPOCH 18 - PROGRESS: at 51.86% examples, 696715 words/s, in_qsize 16, out_qsize 2\n",
      "2020-07-14 18:14:42,932 : INFO : EPOCH 18 - PROGRESS: at 60.74% examples, 700555 words/s, in_qsize 15, out_qsize 0\n",
      "2020-07-14 18:14:43,961 : INFO : EPOCH 18 - PROGRESS: at 68.75% examples, 693064 words/s, in_qsize 14, out_qsize 1\n",
      "2020-07-14 18:14:44,972 : INFO : EPOCH 18 - PROGRESS: at 77.31% examples, 693351 words/s, in_qsize 16, out_qsize 2\n",
      "2020-07-14 18:14:45,983 : INFO : EPOCH 18 - PROGRESS: at 86.53% examples, 698881 words/s, in_qsize 15, out_qsize 0\n",
      "2020-07-14 18:14:46,987 : INFO : EPOCH 18 - PROGRESS: at 95.12% examples, 698981 words/s, in_qsize 15, out_qsize 0\n",
      "2020-07-14 18:14:47,488 : INFO : worker thread finished; awaiting finish of 7 more threads\n",
      "2020-07-14 18:14:47,489 : INFO : worker thread finished; awaiting finish of 6 more threads\n",
      "2020-07-14 18:14:47,492 : INFO : worker thread finished; awaiting finish of 5 more threads\n",
      "2020-07-14 18:14:47,496 : INFO : worker thread finished; awaiting finish of 4 more threads\n",
      "2020-07-14 18:14:47,507 : INFO : worker thread finished; awaiting finish of 3 more threads\n",
      "2020-07-14 18:14:47,509 : INFO : worker thread finished; awaiting finish of 2 more threads\n",
      "2020-07-14 18:14:47,533 : INFO : worker thread finished; awaiting finish of 1 more threads\n",
      "2020-07-14 18:14:47,548 : INFO : worker thread finished; awaiting finish of 0 more threads\n",
      "2020-07-14 18:14:47,549 : INFO : EPOCH - 18 : training on 9227204 raw words (8224144 effective words) took 11.8s, 699795 effective words/s\n",
      "2020-07-14 18:14:48,561 : INFO : EPOCH 19 - PROGRESS: at 7.82% examples, 640946 words/s, in_qsize 14, out_qsize 1\n",
      "2020-07-14 18:14:49,576 : INFO : EPOCH 19 - PROGRESS: at 15.52% examples, 632170 words/s, in_qsize 15, out_qsize 0\n",
      "2020-07-14 18:14:50,609 : INFO : EPOCH 19 - PROGRESS: at 21.90% examples, 590236 words/s, in_qsize 16, out_qsize 0\n",
      "2020-07-14 18:14:51,644 : INFO : EPOCH 19 - PROGRESS: at 28.72% examples, 578017 words/s, in_qsize 12, out_qsize 3\n",
      "2020-07-14 18:14:52,646 : INFO : EPOCH 19 - PROGRESS: at 37.81% examples, 611253 words/s, in_qsize 15, out_qsize 0\n",
      "2020-07-14 18:14:53,647 : INFO : EPOCH 19 - PROGRESS: at 46.35% examples, 626364 words/s, in_qsize 13, out_qsize 2\n",
      "2020-07-14 18:14:54,648 : INFO : EPOCH 19 - PROGRESS: at 55.53% examples, 644821 words/s, in_qsize 16, out_qsize 0\n",
      "2020-07-14 18:14:55,682 : INFO : EPOCH 19 - PROGRESS: at 64.51% examples, 653675 words/s, in_qsize 15, out_qsize 0\n",
      "2020-07-14 18:14:56,697 : INFO : EPOCH 19 - PROGRESS: at 73.62% examples, 662961 words/s, in_qsize 15, out_qsize 0\n",
      "2020-07-14 18:14:57,712 : INFO : EPOCH 19 - PROGRESS: at 82.10% examples, 665092 words/s, in_qsize 15, out_qsize 1\n",
      "2020-07-14 18:14:58,712 : INFO : EPOCH 19 - PROGRESS: at 90.98% examples, 670922 words/s, in_qsize 16, out_qsize 0\n",
      "2020-07-14 18:14:59,629 : INFO : worker thread finished; awaiting finish of 7 more threads\n",
      "2020-07-14 18:14:59,667 : INFO : worker thread finished; awaiting finish of 6 more threads\n",
      "2020-07-14 18:14:59,672 : INFO : worker thread finished; awaiting finish of 5 more threads\n",
      "2020-07-14 18:14:59,673 : INFO : worker thread finished; awaiting finish of 4 more threads\n",
      "2020-07-14 18:14:59,686 : INFO : worker thread finished; awaiting finish of 3 more threads\n",
      "2020-07-14 18:14:59,709 : INFO : worker thread finished; awaiting finish of 2 more threads\n"
     ]
    },
    {
     "name": "stderr",
     "output_type": "stream",
     "text": [
      "2020-07-14 18:14:59,720 : INFO : EPOCH 19 - PROGRESS: at 99.89% examples, 675415 words/s, in_qsize 1, out_qsize 1\n",
      "2020-07-14 18:14:59,721 : INFO : worker thread finished; awaiting finish of 1 more threads\n",
      "2020-07-14 18:14:59,732 : INFO : worker thread finished; awaiting finish of 0 more threads\n",
      "2020-07-14 18:14:59,733 : INFO : EPOCH - 19 : training on 9227204 raw words (8221973 effective words) took 12.2s, 675457 effective words/s\n",
      "2020-07-14 18:15:00,748 : INFO : EPOCH 20 - PROGRESS: at 8.26% examples, 675059 words/s, in_qsize 13, out_qsize 2\n",
      "2020-07-14 18:15:01,760 : INFO : EPOCH 20 - PROGRESS: at 17.46% examples, 711521 words/s, in_qsize 16, out_qsize 0\n",
      "2020-07-14 18:15:02,773 : INFO : EPOCH 20 - PROGRESS: at 26.23% examples, 711808 words/s, in_qsize 16, out_qsize 1\n",
      "2020-07-14 18:15:03,785 : INFO : EPOCH 20 - PROGRESS: at 35.32% examples, 718767 words/s, in_qsize 14, out_qsize 1\n",
      "2020-07-14 18:15:04,801 : INFO : EPOCH 20 - PROGRESS: at 43.86% examples, 713406 words/s, in_qsize 14, out_qsize 3\n",
      "2020-07-14 18:15:05,839 : INFO : EPOCH 20 - PROGRESS: at 52.95% examples, 714717 words/s, in_qsize 14, out_qsize 1\n",
      "2020-07-14 18:15:06,872 : INFO : EPOCH 20 - PROGRESS: at 62.03% examples, 716201 words/s, in_qsize 15, out_qsize 0\n",
      "2020-07-14 18:15:07,889 : INFO : EPOCH 20 - PROGRESS: at 70.91% examples, 716413 words/s, in_qsize 16, out_qsize 0\n",
      "2020-07-14 18:15:08,908 : INFO : EPOCH 20 - PROGRESS: at 80.25% examples, 720345 words/s, in_qsize 15, out_qsize 0\n",
      "2020-07-14 18:15:09,915 : INFO : EPOCH 20 - PROGRESS: at 89.45% examples, 723450 words/s, in_qsize 16, out_qsize 0\n",
      "2020-07-14 18:15:10,924 : INFO : EPOCH 20 - PROGRESS: at 97.82% examples, 719454 words/s, in_qsize 14, out_qsize 1\n",
      "2020-07-14 18:15:11,038 : INFO : worker thread finished; awaiting finish of 7 more threads\n",
      "2020-07-14 18:15:11,069 : INFO : worker thread finished; awaiting finish of 6 more threads\n",
      "2020-07-14 18:15:11,074 : INFO : worker thread finished; awaiting finish of 5 more threads\n",
      "2020-07-14 18:15:11,081 : INFO : worker thread finished; awaiting finish of 4 more threads\n",
      "2020-07-14 18:15:11,082 : INFO : worker thread finished; awaiting finish of 3 more threads\n",
      "2020-07-14 18:15:11,103 : INFO : worker thread finished; awaiting finish of 2 more threads\n",
      "2020-07-14 18:15:11,113 : INFO : worker thread finished; awaiting finish of 1 more threads\n",
      "2020-07-14 18:15:11,116 : INFO : worker thread finished; awaiting finish of 0 more threads\n",
      "2020-07-14 18:15:11,117 : INFO : EPOCH - 20 : training on 9227204 raw words (8222182 effective words) took 11.4s, 723014 effective words/s\n",
      "2020-07-14 18:15:12,149 : INFO : EPOCH 21 - PROGRESS: at 8.90% examples, 714116 words/s, in_qsize 14, out_qsize 1\n",
      "2020-07-14 18:15:13,187 : INFO : EPOCH 21 - PROGRESS: at 18.22% examples, 725905 words/s, in_qsize 14, out_qsize 1\n",
      "2020-07-14 18:15:14,196 : INFO : EPOCH 21 - PROGRESS: at 26.88% examples, 719554 words/s, in_qsize 10, out_qsize 5\n",
      "2020-07-14 18:15:15,197 : INFO : EPOCH 21 - PROGRESS: at 35.54% examples, 717715 words/s, in_qsize 13, out_qsize 2\n",
      "2020-07-14 18:15:16,197 : INFO : EPOCH 21 - PROGRESS: at 44.51% examples, 721914 words/s, in_qsize 15, out_qsize 0\n",
      "2020-07-14 18:15:17,217 : INFO : EPOCH 21 - PROGRESS: at 52.95% examples, 715297 words/s, in_qsize 13, out_qsize 2\n",
      "2020-07-14 18:15:18,219 : INFO : EPOCH 21 - PROGRESS: at 62.25% examples, 722318 words/s, in_qsize 16, out_qsize 0\n",
      "2020-07-14 18:15:19,226 : INFO : EPOCH 21 - PROGRESS: at 71.35% examples, 724853 words/s, in_qsize 16, out_qsize 0\n",
      "2020-07-14 18:15:20,234 : INFO : EPOCH 21 - PROGRESS: at 79.81% examples, 720857 words/s, in_qsize 14, out_qsize 1\n",
      "2020-07-14 18:15:21,251 : INFO : EPOCH 21 - PROGRESS: at 88.48% examples, 718829 words/s, in_qsize 15, out_qsize 0\n",
      "2020-07-14 18:15:22,264 : INFO : EPOCH 21 - PROGRESS: at 97.39% examples, 718952 words/s, in_qsize 16, out_qsize 1\n",
      "2020-07-14 18:15:22,478 : INFO : worker thread finished; awaiting finish of 7 more threads\n",
      "2020-07-14 18:15:22,479 : INFO : worker thread finished; awaiting finish of 6 more threads\n",
      "2020-07-14 18:15:22,493 : INFO : worker thread finished; awaiting finish of 5 more threads\n",
      "2020-07-14 18:15:22,494 : INFO : worker thread finished; awaiting finish of 4 more threads\n",
      "2020-07-14 18:15:22,521 : INFO : worker thread finished; awaiting finish of 3 more threads\n",
      "2020-07-14 18:15:22,534 : INFO : worker thread finished; awaiting finish of 2 more threads\n",
      "2020-07-14 18:15:22,541 : INFO : worker thread finished; awaiting finish of 1 more threads\n",
      "2020-07-14 18:15:22,544 : INFO : worker thread finished; awaiting finish of 0 more threads\n",
      "2020-07-14 18:15:22,545 : INFO : EPOCH - 21 : training on 9227204 raw words (8223241 effective words) took 11.4s, 720120 effective words/s\n",
      "2020-07-14 18:15:23,562 : INFO : EPOCH 22 - PROGRESS: at 8.25% examples, 673121 words/s, in_qsize 13, out_qsize 2\n",
      "2020-07-14 18:15:24,602 : INFO : EPOCH 22 - PROGRESS: at 17.03% examples, 683306 words/s, in_qsize 16, out_qsize 5\n",
      "2020-07-14 18:15:25,606 : INFO : EPOCH 22 - PROGRESS: at 26.34% examples, 709525 words/s, in_qsize 16, out_qsize 0\n",
      "2020-07-14 18:15:26,652 : INFO : EPOCH 22 - PROGRESS: at 35.54% examples, 713433 words/s, in_qsize 14, out_qsize 1\n",
      "2020-07-14 18:15:27,653 : INFO : EPOCH 22 - PROGRESS: at 44.51% examples, 718214 words/s, in_qsize 16, out_qsize 2\n",
      "2020-07-14 18:15:28,662 : INFO : EPOCH 22 - PROGRESS: at 53.48% examples, 720776 words/s, in_qsize 16, out_qsize 1\n",
      "2020-07-14 18:15:29,668 : INFO : EPOCH 22 - PROGRESS: at 62.36% examples, 721516 words/s, in_qsize 15, out_qsize 0\n",
      "2020-07-14 18:15:30,688 : INFO : EPOCH 22 - PROGRESS: at 71.56% examples, 724154 words/s, in_qsize 16, out_qsize 1\n",
      "2020-07-14 18:15:31,708 : INFO : EPOCH 22 - PROGRESS: at 80.25% examples, 721250 words/s, in_qsize 14, out_qsize 1\n",
      "2020-07-14 18:15:32,794 : INFO : EPOCH 22 - PROGRESS: at 85.23% examples, 684771 words/s, in_qsize 8, out_qsize 7\n",
      "2020-07-14 18:15:33,829 : INFO : EPOCH 22 - PROGRESS: at 93.37% examples, 681158 words/s, in_qsize 15, out_qsize 0\n",
      "2020-07-14 18:15:34,533 : INFO : worker thread finished; awaiting finish of 7 more threads\n",
      "2020-07-14 18:15:34,542 : INFO : worker thread finished; awaiting finish of 6 more threads\n",
      "2020-07-14 18:15:34,548 : INFO : worker thread finished; awaiting finish of 5 more threads\n",
      "2020-07-14 18:15:34,552 : INFO : worker thread finished; awaiting finish of 4 more threads\n",
      "2020-07-14 18:15:34,554 : INFO : worker thread finished; awaiting finish of 3 more threads\n",
      "2020-07-14 18:15:34,556 : INFO : worker thread finished; awaiting finish of 2 more threads\n",
      "2020-07-14 18:15:34,559 : INFO : worker thread finished; awaiting finish of 1 more threads\n",
      "2020-07-14 18:15:34,577 : INFO : worker thread finished; awaiting finish of 0 more threads\n",
      "2020-07-14 18:15:34,578 : INFO : EPOCH - 22 : training on 9227204 raw words (8222701 effective words) took 12.0s, 683978 effective words/s\n",
      "2020-07-14 18:15:35,623 : INFO : EPOCH 23 - PROGRESS: at 7.38% examples, 589316 words/s, in_qsize 13, out_qsize 2\n",
      "2020-07-14 18:15:36,626 : INFO : EPOCH 23 - PROGRESS: at 15.19% examples, 613873 words/s, in_qsize 16, out_qsize 3\n",
      "2020-07-14 18:15:37,638 : INFO : EPOCH 23 - PROGRESS: at 23.96% examples, 647004 words/s, in_qsize 16, out_qsize 0\n",
      "2020-07-14 18:15:38,648 : INFO : EPOCH 23 - PROGRESS: at 32.73% examples, 663791 words/s, in_qsize 15, out_qsize 0\n",
      "2020-07-14 18:15:39,655 : INFO : EPOCH 23 - PROGRESS: at 41.92% examples, 681378 words/s, in_qsize 16, out_qsize 2\n",
      "2020-07-14 18:15:40,702 : INFO : EPOCH 23 - PROGRESS: at 50.99% examples, 686988 words/s, in_qsize 16, out_qsize 2\n",
      "2020-07-14 18:15:41,722 : INFO : EPOCH 23 - PROGRESS: at 60.19% examples, 694958 words/s, in_qsize 16, out_qsize 0\n",
      "2020-07-14 18:15:42,736 : INFO : EPOCH 23 - PROGRESS: at 69.07% examples, 698109 words/s, in_qsize 15, out_qsize 0\n",
      "2020-07-14 18:15:43,761 : INFO : EPOCH 23 - PROGRESS: at 78.18% examples, 701667 words/s, in_qsize 16, out_qsize 0\n",
      "2020-07-14 18:15:44,777 : INFO : EPOCH 23 - PROGRESS: at 87.18% examples, 704205 words/s, in_qsize 15, out_qsize 0\n",
      "2020-07-14 18:15:45,797 : INFO : EPOCH 23 - PROGRESS: at 96.53% examples, 708424 words/s, in_qsize 15, out_qsize 0\n",
      "2020-07-14 18:15:46,100 : INFO : worker thread finished; awaiting finish of 7 more threads\n",
      "2020-07-14 18:15:46,106 : INFO : worker thread finished; awaiting finish of 6 more threads\n"
     ]
    },
    {
     "name": "stderr",
     "output_type": "stream",
     "text": [
      "2020-07-14 18:15:46,110 : INFO : worker thread finished; awaiting finish of 5 more threads\n",
      "2020-07-14 18:15:46,112 : INFO : worker thread finished; awaiting finish of 4 more threads\n",
      "2020-07-14 18:15:46,124 : INFO : worker thread finished; awaiting finish of 3 more threads\n",
      "2020-07-14 18:15:46,141 : INFO : worker thread finished; awaiting finish of 2 more threads\n",
      "2020-07-14 18:15:46,156 : INFO : worker thread finished; awaiting finish of 1 more threads\n",
      "2020-07-14 18:15:46,162 : INFO : worker thread finished; awaiting finish of 0 more threads\n",
      "2020-07-14 18:15:46,163 : INFO : EPOCH - 23 : training on 9227204 raw words (8221994 effective words) took 11.6s, 710750 effective words/s\n",
      "2020-07-14 18:15:47,196 : INFO : EPOCH 24 - PROGRESS: at 8.69% examples, 701087 words/s, in_qsize 16, out_qsize 0\n",
      "2020-07-14 18:15:48,197 : INFO : EPOCH 24 - PROGRESS: at 17.78% examples, 723777 words/s, in_qsize 15, out_qsize 0\n",
      "2020-07-14 18:15:49,213 : INFO : EPOCH 24 - PROGRESS: at 26.78% examples, 725052 words/s, in_qsize 14, out_qsize 1\n",
      "2020-07-14 18:15:50,219 : INFO : EPOCH 24 - PROGRESS: at 35.54% examples, 723064 words/s, in_qsize 16, out_qsize 1\n",
      "2020-07-14 18:15:51,241 : INFO : EPOCH 24 - PROGRESS: at 44.29% examples, 719647 words/s, in_qsize 16, out_qsize 0\n",
      "2020-07-14 18:15:52,246 : INFO : EPOCH 24 - PROGRESS: at 52.95% examples, 718077 words/s, in_qsize 16, out_qsize 1\n",
      "2020-07-14 18:15:53,262 : INFO : EPOCH 24 - PROGRESS: at 61.61% examples, 715761 words/s, in_qsize 16, out_qsize 0\n",
      "2020-07-14 18:15:54,264 : INFO : EPOCH 24 - PROGRESS: at 70.80% examples, 720622 words/s, in_qsize 15, out_qsize 0\n",
      "2020-07-14 18:15:55,267 : INFO : EPOCH 24 - PROGRESS: at 79.70% examples, 721458 words/s, in_qsize 16, out_qsize 1\n",
      "2020-07-14 18:15:56,327 : INFO : EPOCH 24 - PROGRESS: at 88.80% examples, 719871 words/s, in_qsize 14, out_qsize 4\n",
      "2020-07-14 18:15:57,355 : INFO : EPOCH 24 - PROGRESS: at 98.15% examples, 722154 words/s, in_qsize 15, out_qsize 0\n",
      "2020-07-14 18:15:57,461 : INFO : worker thread finished; awaiting finish of 7 more threads\n",
      "2020-07-14 18:15:57,465 : INFO : worker thread finished; awaiting finish of 6 more threads\n",
      "2020-07-14 18:15:57,468 : INFO : worker thread finished; awaiting finish of 5 more threads\n",
      "2020-07-14 18:15:57,475 : INFO : worker thread finished; awaiting finish of 4 more threads\n",
      "2020-07-14 18:15:57,486 : INFO : worker thread finished; awaiting finish of 3 more threads\n",
      "2020-07-14 18:15:57,489 : INFO : worker thread finished; awaiting finish of 2 more threads\n",
      "2020-07-14 18:15:57,511 : INFO : worker thread finished; awaiting finish of 1 more threads\n",
      "2020-07-14 18:15:57,522 : INFO : worker thread finished; awaiting finish of 0 more threads\n",
      "2020-07-14 18:15:57,523 : INFO : EPOCH - 24 : training on 9227204 raw words (8223266 effective words) took 11.3s, 724881 effective words/s\n",
      "2020-07-14 18:15:58,557 : INFO : EPOCH 25 - PROGRESS: at 8.36% examples, 668554 words/s, in_qsize 15, out_qsize 0\n",
      "2020-07-14 18:15:59,599 : INFO : EPOCH 25 - PROGRESS: at 17.35% examples, 689160 words/s, in_qsize 15, out_qsize 0\n",
      "2020-07-14 18:16:00,621 : INFO : EPOCH 25 - PROGRESS: at 26.23% examples, 697652 words/s, in_qsize 14, out_qsize 1\n",
      "2020-07-14 18:16:01,624 : INFO : EPOCH 25 - PROGRESS: at 35.32% examples, 709542 words/s, in_qsize 15, out_qsize 1\n",
      "2020-07-14 18:16:02,650 : INFO : EPOCH 25 - PROGRESS: at 44.40% examples, 713613 words/s, in_qsize 16, out_qsize 0\n",
      "2020-07-14 18:16:03,673 : INFO : EPOCH 25 - PROGRESS: at 53.16% examples, 712282 words/s, in_qsize 13, out_qsize 2\n",
      "2020-07-14 18:16:04,682 : INFO : EPOCH 25 - PROGRESS: at 62.25% examples, 716468 words/s, in_qsize 16, out_qsize 0\n",
      "2020-07-14 18:16:05,692 : INFO : EPOCH 25 - PROGRESS: at 70.91% examples, 715127 words/s, in_qsize 15, out_qsize 0\n",
      "2020-07-14 18:16:06,697 : INFO : EPOCH 25 - PROGRESS: at 79.49% examples, 713447 words/s, in_qsize 12, out_qsize 3\n",
      "2020-07-14 18:16:07,726 : INFO : EPOCH 25 - PROGRESS: at 88.70% examples, 715708 words/s, in_qsize 14, out_qsize 1\n",
      "2020-07-14 18:16:08,748 : INFO : EPOCH 25 - PROGRESS: at 97.93% examples, 717928 words/s, in_qsize 14, out_qsize 1\n",
      "2020-07-14 18:16:08,900 : INFO : worker thread finished; awaiting finish of 7 more threads\n",
      "2020-07-14 18:16:08,908 : INFO : worker thread finished; awaiting finish of 6 more threads\n",
      "2020-07-14 18:16:08,914 : INFO : worker thread finished; awaiting finish of 5 more threads\n",
      "2020-07-14 18:16:08,917 : INFO : worker thread finished; awaiting finish of 4 more threads\n",
      "2020-07-14 18:16:08,929 : INFO : worker thread finished; awaiting finish of 3 more threads\n",
      "2020-07-14 18:16:08,944 : INFO : worker thread finished; awaiting finish of 2 more threads\n",
      "2020-07-14 18:16:08,962 : INFO : worker thread finished; awaiting finish of 1 more threads\n",
      "2020-07-14 18:16:08,965 : INFO : worker thread finished; awaiting finish of 0 more threads\n",
      "2020-07-14 18:16:08,966 : INFO : EPOCH - 25 : training on 9227204 raw words (8223827 effective words) took 11.4s, 719147 effective words/s\n",
      "2020-07-14 18:16:09,984 : INFO : EPOCH 26 - PROGRESS: at 8.47% examples, 690474 words/s, in_qsize 15, out_qsize 0\n",
      "2020-07-14 18:16:11,027 : INFO : EPOCH 26 - PROGRESS: at 17.35% examples, 695242 words/s, in_qsize 16, out_qsize 3\n",
      "2020-07-14 18:16:12,056 : INFO : EPOCH 26 - PROGRESS: at 26.78% examples, 714853 words/s, in_qsize 12, out_qsize 3\n",
      "2020-07-14 18:16:13,063 : INFO : EPOCH 26 - PROGRESS: at 36.18% examples, 728125 words/s, in_qsize 15, out_qsize 0\n",
      "2020-07-14 18:16:14,065 : INFO : EPOCH 26 - PROGRESS: at 44.94% examples, 726590 words/s, in_qsize 16, out_qsize 1\n",
      "2020-07-14 18:16:15,070 : INFO : EPOCH 26 - PROGRESS: at 54.24% examples, 732576 words/s, in_qsize 15, out_qsize 0\n",
      "2020-07-14 18:16:16,115 : INFO : EPOCH 26 - PROGRESS: at 63.00% examples, 726467 words/s, in_qsize 16, out_qsize 1\n",
      "2020-07-14 18:16:17,117 : INFO : EPOCH 26 - PROGRESS: at 70.48% examples, 712544 words/s, in_qsize 16, out_qsize 1\n",
      "2020-07-14 18:16:18,122 : INFO : EPOCH 26 - PROGRESS: at 79.27% examples, 713034 words/s, in_qsize 15, out_qsize 0\n",
      "2020-07-14 18:16:19,150 : INFO : EPOCH 26 - PROGRESS: at 87.94% examples, 711012 words/s, in_qsize 14, out_qsize 4\n",
      "2020-07-14 18:16:20,159 : INFO : EPOCH 26 - PROGRESS: at 93.81% examples, 689811 words/s, in_qsize 14, out_qsize 1\n",
      "2020-07-14 18:16:20,851 : INFO : worker thread finished; awaiting finish of 7 more threads\n",
      "2020-07-14 18:16:20,854 : INFO : worker thread finished; awaiting finish of 6 more threads\n",
      "2020-07-14 18:16:20,856 : INFO : worker thread finished; awaiting finish of 5 more threads\n",
      "2020-07-14 18:16:20,858 : INFO : worker thread finished; awaiting finish of 4 more threads\n",
      "2020-07-14 18:16:20,860 : INFO : worker thread finished; awaiting finish of 3 more threads\n",
      "2020-07-14 18:16:20,895 : INFO : worker thread finished; awaiting finish of 2 more threads\n",
      "2020-07-14 18:16:20,898 : INFO : worker thread finished; awaiting finish of 1 more threads\n",
      "2020-07-14 18:16:20,900 : INFO : worker thread finished; awaiting finish of 0 more threads\n",
      "2020-07-14 18:16:20,901 : INFO : EPOCH - 26 : training on 9227204 raw words (8221965 effective words) took 11.9s, 689588 effective words/s\n",
      "2020-07-14 18:16:21,930 : INFO : EPOCH 27 - PROGRESS: at 7.49% examples, 603196 words/s, in_qsize 16, out_qsize 4\n",
      "2020-07-14 18:16:22,944 : INFO : EPOCH 27 - PROGRESS: at 16.70% examples, 674988 words/s, in_qsize 16, out_qsize 2\n",
      "2020-07-14 18:16:23,954 : INFO : EPOCH 27 - PROGRESS: at 25.48% examples, 687997 words/s, in_qsize 15, out_qsize 0\n",
      "2020-07-14 18:16:24,957 : INFO : EPOCH 27 - PROGRESS: at 34.57% examples, 702475 words/s, in_qsize 16, out_qsize 0\n",
      "2020-07-14 18:16:25,966 : INFO : EPOCH 27 - PROGRESS: at 43.10% examples, 701390 words/s, in_qsize 14, out_qsize 1\n",
      "2020-07-14 18:16:26,978 : INFO : EPOCH 27 - PROGRESS: at 51.75% examples, 701900 words/s, in_qsize 16, out_qsize 1\n",
      "2020-07-14 18:16:27,981 : INFO : EPOCH 27 - PROGRESS: at 60.41% examples, 703222 words/s, in_qsize 15, out_qsize 2\n",
      "2020-07-14 18:16:28,995 : INFO : EPOCH 27 - PROGRESS: at 69.29% examples, 705431 words/s, in_qsize 16, out_qsize 0\n",
      "2020-07-14 18:16:30,005 : INFO : EPOCH 27 - PROGRESS: at 78.40% examples, 709302 words/s, in_qsize 13, out_qsize 2\n",
      "2020-07-14 18:16:31,029 : INFO : EPOCH 27 - PROGRESS: at 87.40% examples, 710604 words/s, in_qsize 14, out_qsize 2\n"
     ]
    },
    {
     "name": "stderr",
     "output_type": "stream",
     "text": [
      "2020-07-14 18:16:32,060 : INFO : EPOCH 27 - PROGRESS: at 97.07% examples, 715909 words/s, in_qsize 13, out_qsize 2\n",
      "2020-07-14 18:16:32,294 : INFO : worker thread finished; awaiting finish of 7 more threads\n",
      "2020-07-14 18:16:32,324 : INFO : worker thread finished; awaiting finish of 6 more threads\n",
      "2020-07-14 18:16:32,326 : INFO : worker thread finished; awaiting finish of 5 more threads\n",
      "2020-07-14 18:16:32,336 : INFO : worker thread finished; awaiting finish of 4 more threads\n",
      "2020-07-14 18:16:32,337 : INFO : worker thread finished; awaiting finish of 3 more threads\n",
      "2020-07-14 18:16:32,366 : INFO : worker thread finished; awaiting finish of 2 more threads\n",
      "2020-07-14 18:16:32,368 : INFO : worker thread finished; awaiting finish of 1 more threads\n",
      "2020-07-14 18:16:32,378 : INFO : worker thread finished; awaiting finish of 0 more threads\n",
      "2020-07-14 18:16:32,379 : INFO : EPOCH - 27 : training on 9227204 raw words (8223217 effective words) took 11.5s, 717110 effective words/s\n",
      "2020-07-14 18:16:33,410 : INFO : EPOCH 28 - PROGRESS: at 8.58% examples, 688339 words/s, in_qsize 16, out_qsize 1\n",
      "2020-07-14 18:16:34,455 : INFO : EPOCH 28 - PROGRESS: at 18.00% examples, 714934 words/s, in_qsize 16, out_qsize 1\n",
      "2020-07-14 18:16:35,468 : INFO : EPOCH 28 - PROGRESS: at 26.88% examples, 717148 words/s, in_qsize 14, out_qsize 1\n",
      "2020-07-14 18:16:36,478 : INFO : EPOCH 28 - PROGRESS: at 35.65% examples, 716412 words/s, in_qsize 16, out_qsize 0\n",
      "2020-07-14 18:16:37,504 : INFO : EPOCH 28 - PROGRESS: at 44.29% examples, 712011 words/s, in_qsize 12, out_qsize 3\n",
      "2020-07-14 18:16:38,518 : INFO : EPOCH 28 - PROGRESS: at 53.27% examples, 714878 words/s, in_qsize 15, out_qsize 0\n",
      "2020-07-14 18:16:39,539 : INFO : EPOCH 28 - PROGRESS: at 62.25% examples, 716207 words/s, in_qsize 15, out_qsize 0\n",
      "2020-07-14 18:16:40,547 : INFO : EPOCH 28 - PROGRESS: at 71.67% examples, 722695 words/s, in_qsize 16, out_qsize 0\n",
      "2020-07-14 18:16:41,550 : INFO : EPOCH 28 - PROGRESS: at 80.57% examples, 723275 words/s, in_qsize 16, out_qsize 1\n",
      "2020-07-14 18:16:42,565 : INFO : EPOCH 28 - PROGRESS: at 89.45% examples, 722912 words/s, in_qsize 16, out_qsize 3\n",
      "2020-07-14 18:16:43,613 : INFO : EPOCH 28 - PROGRESS: at 98.90% examples, 724358 words/s, in_qsize 8, out_qsize 3\n",
      "2020-07-14 18:16:43,616 : INFO : worker thread finished; awaiting finish of 7 more threads\n",
      "2020-07-14 18:16:43,617 : INFO : worker thread finished; awaiting finish of 6 more threads\n",
      "2020-07-14 18:16:43,649 : INFO : worker thread finished; awaiting finish of 5 more threads\n",
      "2020-07-14 18:16:43,682 : INFO : worker thread finished; awaiting finish of 4 more threads\n",
      "2020-07-14 18:16:43,687 : INFO : worker thread finished; awaiting finish of 3 more threads\n",
      "2020-07-14 18:16:43,691 : INFO : worker thread finished; awaiting finish of 2 more threads\n",
      "2020-07-14 18:16:43,697 : INFO : worker thread finished; awaiting finish of 1 more threads\n",
      "2020-07-14 18:16:43,707 : INFO : worker thread finished; awaiting finish of 0 more threads\n",
      "2020-07-14 18:16:43,708 : INFO : EPOCH - 28 : training on 9227204 raw words (8221836 effective words) took 11.3s, 726254 effective words/s\n",
      "2020-07-14 18:16:44,741 : INFO : EPOCH 29 - PROGRESS: at 8.69% examples, 696745 words/s, in_qsize 13, out_qsize 2\n",
      "2020-07-14 18:16:45,744 : INFO : EPOCH 29 - PROGRESS: at 17.89% examples, 725365 words/s, in_qsize 15, out_qsize 0\n",
      "2020-07-14 18:16:46,753 : INFO : EPOCH 29 - PROGRESS: at 26.78% examples, 725042 words/s, in_qsize 15, out_qsize 0\n",
      "2020-07-14 18:16:47,759 : INFO : EPOCH 29 - PROGRESS: at 35.86% examples, 729716 words/s, in_qsize 16, out_qsize 0\n",
      "2020-07-14 18:16:48,777 : INFO : EPOCH 29 - PROGRESS: at 44.83% examples, 729063 words/s, in_qsize 14, out_qsize 1\n",
      "2020-07-14 18:16:49,795 : INFO : EPOCH 29 - PROGRESS: at 53.48% examples, 724158 words/s, in_qsize 15, out_qsize 1\n",
      "2020-07-14 18:16:50,802 : INFO : EPOCH 29 - PROGRESS: at 62.36% examples, 724447 words/s, in_qsize 14, out_qsize 2\n",
      "2020-07-14 18:16:51,849 : INFO : EPOCH 29 - PROGRESS: at 71.57% examples, 724268 words/s, in_qsize 14, out_qsize 1\n",
      "2020-07-14 18:16:52,862 : INFO : EPOCH 29 - PROGRESS: at 80.36% examples, 722931 words/s, in_qsize 13, out_qsize 2\n",
      "2020-07-14 18:16:53,862 : INFO : EPOCH 29 - PROGRESS: at 89.34% examples, 724498 words/s, in_qsize 16, out_qsize 0\n",
      "2020-07-14 18:16:54,868 : INFO : EPOCH 29 - PROGRESS: at 98.69% examples, 727826 words/s, in_qsize 13, out_qsize 0\n",
      "2020-07-14 18:16:54,936 : INFO : worker thread finished; awaiting finish of 7 more threads\n",
      "2020-07-14 18:16:54,939 : INFO : worker thread finished; awaiting finish of 6 more threads\n",
      "2020-07-14 18:16:54,966 : INFO : worker thread finished; awaiting finish of 5 more threads\n",
      "2020-07-14 18:16:54,981 : INFO : worker thread finished; awaiting finish of 4 more threads\n",
      "2020-07-14 18:16:54,994 : INFO : worker thread finished; awaiting finish of 3 more threads\n",
      "2020-07-14 18:16:54,995 : INFO : worker thread finished; awaiting finish of 2 more threads\n",
      "2020-07-14 18:16:55,004 : INFO : worker thread finished; awaiting finish of 1 more threads\n",
      "2020-07-14 18:16:55,016 : INFO : worker thread finished; awaiting finish of 0 more threads\n",
      "2020-07-14 18:16:55,017 : INFO : EPOCH - 29 : training on 9227204 raw words (8223236 effective words) took 11.3s, 727805 effective words/s\n",
      "2020-07-14 18:16:56,035 : INFO : EPOCH 30 - PROGRESS: at 8.47% examples, 688550 words/s, in_qsize 15, out_qsize 1\n",
      "2020-07-14 18:16:57,057 : INFO : EPOCH 30 - PROGRESS: at 17.68% examples, 714907 words/s, in_qsize 15, out_qsize 0\n",
      "2020-07-14 18:16:58,060 : INFO : EPOCH 30 - PROGRESS: at 26.45% examples, 716462 words/s, in_qsize 16, out_qsize 2\n",
      "2020-07-14 18:16:59,064 : INFO : EPOCH 30 - PROGRESS: at 35.32% examples, 719260 words/s, in_qsize 15, out_qsize 0\n",
      "2020-07-14 18:17:00,073 : INFO : EPOCH 30 - PROGRESS: at 43.54% examples, 709597 words/s, in_qsize 15, out_qsize 0\n",
      "2020-07-14 18:17:01,093 : INFO : EPOCH 30 - PROGRESS: at 52.73% examples, 715041 words/s, in_qsize 16, out_qsize 0\n",
      "2020-07-14 18:17:02,100 : INFO : EPOCH 30 - PROGRESS: at 61.18% examples, 711559 words/s, in_qsize 11, out_qsize 5\n",
      "2020-07-14 18:17:03,138 : INFO : EPOCH 30 - PROGRESS: at 70.48% examples, 714845 words/s, in_qsize 16, out_qsize 1\n",
      "2020-07-14 18:17:04,142 : INFO : EPOCH 30 - PROGRESS: at 79.49% examples, 717188 words/s, in_qsize 16, out_qsize 1\n",
      "2020-07-14 18:17:05,144 : INFO : EPOCH 30 - PROGRESS: at 88.27% examples, 717463 words/s, in_qsize 15, out_qsize 0\n",
      "2020-07-14 18:17:06,154 : INFO : EPOCH 30 - PROGRESS: at 95.88% examples, 708312 words/s, in_qsize 16, out_qsize 0\n",
      "2020-07-14 18:17:06,566 : INFO : worker thread finished; awaiting finish of 7 more threads\n",
      "2020-07-14 18:17:06,569 : INFO : worker thread finished; awaiting finish of 6 more threads\n",
      "2020-07-14 18:17:06,581 : INFO : worker thread finished; awaiting finish of 5 more threads\n",
      "2020-07-14 18:17:06,586 : INFO : worker thread finished; awaiting finish of 4 more threads\n",
      "2020-07-14 18:17:06,598 : INFO : worker thread finished; awaiting finish of 3 more threads\n",
      "2020-07-14 18:17:06,601 : INFO : worker thread finished; awaiting finish of 2 more threads\n",
      "2020-07-14 18:17:06,604 : INFO : worker thread finished; awaiting finish of 1 more threads\n",
      "2020-07-14 18:17:06,620 : INFO : worker thread finished; awaiting finish of 0 more threads\n",
      "2020-07-14 18:17:06,621 : INFO : EPOCH - 30 : training on 9227204 raw words (8221843 effective words) took 11.6s, 709090 effective words/s\n",
      "2020-07-14 18:17:07,663 : INFO : EPOCH 31 - PROGRESS: at 6.73% examples, 536829 words/s, in_qsize 16, out_qsize 0\n",
      "2020-07-14 18:17:08,683 : INFO : EPOCH 31 - PROGRESS: at 15.41% examples, 617113 words/s, in_qsize 15, out_qsize 0\n",
      "2020-07-14 18:17:09,689 : INFO : EPOCH 31 - PROGRESS: at 23.95% examples, 644415 words/s, in_qsize 13, out_qsize 2\n",
      "2020-07-14 18:17:10,707 : INFO : EPOCH 31 - PROGRESS: at 32.62% examples, 658352 words/s, in_qsize 14, out_qsize 1\n",
      "2020-07-14 18:17:11,712 : INFO : EPOCH 31 - PROGRESS: at 41.15% examples, 666599 words/s, in_qsize 15, out_qsize 2\n",
      "2020-07-14 18:17:12,738 : INFO : EPOCH 31 - PROGRESS: at 49.27% examples, 664102 words/s, in_qsize 15, out_qsize 0\n",
      "2020-07-14 18:17:13,741 : INFO : EPOCH 31 - PROGRESS: at 53.81% examples, 622990 words/s, in_qsize 15, out_qsize 0\n",
      "2020-07-14 18:17:14,825 : INFO : EPOCH 31 - PROGRESS: at 62.46% examples, 627545 words/s, in_qsize 13, out_qsize 2\n"
     ]
    },
    {
     "name": "stderr",
     "output_type": "stream",
     "text": [
      "2020-07-14 18:17:15,835 : INFO : EPOCH 31 - PROGRESS: at 70.05% examples, 626479 words/s, in_qsize 16, out_qsize 1\n",
      "2020-07-14 18:17:16,896 : INFO : EPOCH 31 - PROGRESS: at 78.62% examples, 630265 words/s, in_qsize 16, out_qsize 2\n",
      "2020-07-14 18:17:17,903 : INFO : EPOCH 31 - PROGRESS: at 86.53% examples, 631635 words/s, in_qsize 15, out_qsize 0\n",
      "2020-07-14 18:17:18,904 : INFO : EPOCH 31 - PROGRESS: at 94.80% examples, 635239 words/s, in_qsize 15, out_qsize 0\n",
      "2020-07-14 18:17:19,385 : INFO : worker thread finished; awaiting finish of 7 more threads\n",
      "2020-07-14 18:17:19,392 : INFO : worker thread finished; awaiting finish of 6 more threads\n",
      "2020-07-14 18:17:19,416 : INFO : worker thread finished; awaiting finish of 5 more threads\n",
      "2020-07-14 18:17:19,418 : INFO : worker thread finished; awaiting finish of 4 more threads\n",
      "2020-07-14 18:17:19,421 : INFO : worker thread finished; awaiting finish of 3 more threads\n",
      "2020-07-14 18:17:19,425 : INFO : worker thread finished; awaiting finish of 2 more threads\n",
      "2020-07-14 18:17:19,449 : INFO : worker thread finished; awaiting finish of 1 more threads\n",
      "2020-07-14 18:17:19,453 : INFO : worker thread finished; awaiting finish of 0 more threads\n",
      "2020-07-14 18:17:19,455 : INFO : EPOCH - 31 : training on 9227204 raw words (8222541 effective words) took 12.8s, 641364 effective words/s\n",
      "2020-07-14 18:17:20,486 : INFO : EPOCH 32 - PROGRESS: at 6.73% examples, 542687 words/s, in_qsize 14, out_qsize 1\n",
      "2020-07-14 18:17:21,498 : INFO : EPOCH 32 - PROGRESS: at 15.41% examples, 623170 words/s, in_qsize 14, out_qsize 1\n",
      "2020-07-14 18:17:22,503 : INFO : EPOCH 32 - PROGRESS: at 23.31% examples, 631143 words/s, in_qsize 14, out_qsize 1\n",
      "2020-07-14 18:17:23,511 : INFO : EPOCH 32 - PROGRESS: at 30.89% examples, 627993 words/s, in_qsize 14, out_qsize 1\n",
      "2020-07-14 18:17:24,538 : INFO : EPOCH 32 - PROGRESS: at 36.07% examples, 585131 words/s, in_qsize 15, out_qsize 0\n",
      "2020-07-14 18:17:25,548 : INFO : EPOCH 32 - PROGRESS: at 42.68% examples, 577259 words/s, in_qsize 15, out_qsize 2\n",
      "2020-07-14 18:17:26,566 : INFO : EPOCH 32 - PROGRESS: at 49.81% examples, 577387 words/s, in_qsize 16, out_qsize 0\n",
      "2020-07-14 18:17:27,592 : INFO : EPOCH 32 - PROGRESS: at 58.25% examples, 590049 words/s, in_qsize 16, out_qsize 1\n",
      "2020-07-14 18:17:28,617 : INFO : EPOCH 32 - PROGRESS: at 66.58% examples, 598871 words/s, in_qsize 15, out_qsize 0\n",
      "2020-07-14 18:17:29,621 : INFO : EPOCH 32 - PROGRESS: at 74.70% examples, 605459 words/s, in_qsize 16, out_qsize 2\n",
      "2020-07-14 18:17:30,631 : INFO : EPOCH 32 - PROGRESS: at 82.64% examples, 608923 words/s, in_qsize 11, out_qsize 4\n",
      "2020-07-14 18:17:31,645 : INFO : EPOCH 32 - PROGRESS: at 91.31% examples, 616737 words/s, in_qsize 16, out_qsize 0\n",
      "2020-07-14 18:17:32,599 : INFO : worker thread finished; awaiting finish of 7 more threads\n",
      "2020-07-14 18:17:32,622 : INFO : worker thread finished; awaiting finish of 6 more threads\n",
      "2020-07-14 18:17:32,625 : INFO : worker thread finished; awaiting finish of 5 more threads\n",
      "2020-07-14 18:17:32,629 : INFO : worker thread finished; awaiting finish of 4 more threads\n",
      "2020-07-14 18:17:32,636 : INFO : worker thread finished; awaiting finish of 3 more threads\n",
      "2020-07-14 18:17:32,655 : INFO : EPOCH 32 - PROGRESS: at 99.78% examples, 622259 words/s, in_qsize 2, out_qsize 1\n",
      "2020-07-14 18:17:32,656 : INFO : worker thread finished; awaiting finish of 2 more threads\n",
      "2020-07-14 18:17:32,664 : INFO : worker thread finished; awaiting finish of 1 more threads\n",
      "2020-07-14 18:17:32,672 : INFO : worker thread finished; awaiting finish of 0 more threads\n",
      "2020-07-14 18:17:32,673 : INFO : EPOCH - 32 : training on 9227204 raw words (8223345 effective words) took 13.2s, 622783 effective words/s\n",
      "2020-07-14 18:17:32,674 : INFO : training on a 295270528 raw words (263124181 effective words) took 385.8s, 682051 effective words/s\n"
     ]
    },
    {
     "name": "stdout",
     "output_type": "stream",
     "text": [
      "CPU times: user 28min 19s, sys: 7.27 s, total: 28min 27s\n",
      "Wall time: 6min 25s\n"
     ]
    },
    {
     "data": {
      "text/plain": [
       "(263124181, 295270528)"
      ]
     },
     "execution_count": 19,
     "metadata": {},
     "output_type": "execute_result"
    }
   ],
   "source": [
    "%%time\n",
    "w2v_model.train(documents, total_examples=len(documents), epochs=W2V_EPOCH)"
   ]
  },
  {
   "cell_type": "code",
   "execution_count": 20,
   "metadata": {
    "_uuid": "27cc2651c74227115d8bfd8c40e5618048e05edd"
   },
   "outputs": [
    {
     "name": "stderr",
     "output_type": "stream",
     "text": [
      "/home/sajjanakash18/anaconda3/lib/python3.7/site-packages/ipykernel_launcher.py:1: DeprecationWarning: Call to deprecated `most_similar` (Method will be removed in 4.0.0, use self.wv.most_similar() instead).\n",
      "  \"\"\"Entry point for launching an IPython kernel.\n",
      "2020-07-14 18:17:41,592 : INFO : precomputing L2-norms of word weight vectors\n"
     ]
    },
    {
     "data": {
      "text/plain": [
       "[('luv', 0.5775644183158875),\n",
       " ('loves', 0.5497535467147827),\n",
       " ('loved', 0.5245630145072937),\n",
       " ('adore', 0.5235531330108643),\n",
       " ('amazing', 0.5114006400108337),\n",
       " ('looove', 0.5092319846153259),\n",
       " ('awesome', 0.4804810583591461),\n",
       " ('loooove', 0.4620535373687744),\n",
       " ('loveee', 0.4535929560661316),\n",
       " ('lovee', 0.44046178460121155)]"
      ]
     },
     "execution_count": 20,
     "metadata": {},
     "output_type": "execute_result"
    }
   ],
   "source": [
    "w2v_model.most_similar(\"love\")"
   ]
  },
  {
   "cell_type": "markdown",
   "metadata": {
    "_uuid": "e13563644468037258598637b49373ca96b9b879"
   },
   "source": [
    "### Tokenize Text"
   ]
  },
  {
   "cell_type": "code",
   "execution_count": 21,
   "metadata": {
    "_uuid": "6852bc709a7cd20173cbeeb218505078f8f37c57",
    "scrolled": false
   },
   "outputs": [
    {
     "name": "stdout",
     "output_type": "stream",
     "text": [
      "Total words 290419\n",
      "CPU times: user 16.2 s, sys: 92.1 ms, total: 16.3 s\n",
      "Wall time: 17.5 s\n"
     ]
    }
   ],
   "source": [
    "%%time\n",
    "tokenizer = Tokenizer()\n",
    "tokenizer.fit_on_texts(df_train.text)\n",
    "\n",
    "vocab_size = len(tokenizer.word_index) + 1\n",
    "print(\"Total words\", vocab_size)"
   ]
  },
  {
   "cell_type": "code",
   "execution_count": 24,
   "metadata": {
    "_uuid": "45de439df3015030c71f84c2d170346936a1d68f"
   },
   "outputs": [
    {
     "name": "stdout",
     "output_type": "stream",
     "text": [
      "CPU times: user 35.8 s, sys: 4.19 s, total: 40 s\n",
      "Wall time: 8min 58s\n"
     ]
    }
   ],
   "source": [
    "%%time\n",
    "x_train = pad_sequences(tokenizer.texts_to_sequences(df_train.text), maxlen=SEQUENCE_LENGTH)\n",
    "x_test = pad_sequences(tokenizer.texts_to_sequences(df_test.text), maxlen=SEQUENCE_LENGTH)"
   ]
  },
  {
   "cell_type": "markdown",
   "metadata": {
    "_uuid": "03b35903fc6260e190d6928d240ef7432de117fc"
   },
   "source": [
    "### Label Encoder "
   ]
  },
  {
   "cell_type": "code",
   "execution_count": 25,
   "metadata": {
    "_uuid": "33676e0efa39e97d89bd650b8b4eae933a22fbf0"
   },
   "outputs": [
    {
     "data": {
      "text/plain": [
       "['POSITIVE', 'NEGATIVE', 'NEUTRAL']"
      ]
     },
     "execution_count": 25,
     "metadata": {},
     "output_type": "execute_result"
    }
   ],
   "source": [
    "labels = df_train.target.unique().tolist()\n",
    "labels.append(NEUTRAL)\n",
    "labels"
   ]
  },
  {
   "cell_type": "code",
   "execution_count": 26,
   "metadata": {
    "_uuid": "04239a9bef76e7922fd86098a5601dfde8ee4665"
   },
   "outputs": [
    {
     "name": "stdout",
     "output_type": "stream",
     "text": [
      "y_train (1280000, 1)\n",
      "y_test (320000, 1)\n"
     ]
    }
   ],
   "source": [
    "encoder = LabelEncoder()\n",
    "encoder.fit(df_train.target.tolist())\n",
    "\n",
    "y_train = encoder.transform(df_train.target.tolist())\n",
    "y_test = encoder.transform(df_test.target.tolist())\n",
    "\n",
    "y_train = y_train.reshape(-1,1)\n",
    "y_test = y_test.reshape(-1,1)\n",
    "\n",
    "print(\"y_train\",y_train.shape)\n",
    "print(\"y_test\",y_test.shape)"
   ]
  },
  {
   "cell_type": "code",
   "execution_count": 27,
   "metadata": {
    "_uuid": "04299c886911ca135583ab64878f213939a2990c"
   },
   "outputs": [
    {
     "name": "stdout",
     "output_type": "stream",
     "text": [
      "x_train (1280000, 10)\n",
      "y_train (1280000, 1)\n",
      "\n",
      "x_test (320000, 10)\n",
      "y_test (320000, 1)\n"
     ]
    }
   ],
   "source": [
    "print(\"x_train\", x_train.shape)\n",
    "print(\"y_train\", y_train.shape)\n",
    "print()\n",
    "print(\"x_test\", x_test.shape)\n",
    "print(\"y_test\", y_test.shape)"
   ]
  },
  {
   "cell_type": "code",
   "execution_count": 28,
   "metadata": {
    "_uuid": "232533fb27b7be99d9b8c2f8fb22c9c6bf121a6f"
   },
   "outputs": [
    {
     "data": {
      "text/plain": [
       "array([[1],\n",
       "       [1],\n",
       "       [1],\n",
       "       [0],\n",
       "       [1],\n",
       "       [1],\n",
       "       [1],\n",
       "       [1],\n",
       "       [1],\n",
       "       [1]])"
      ]
     },
     "execution_count": 28,
     "metadata": {},
     "output_type": "execute_result"
    }
   ],
   "source": [
    "y_train[:10]"
   ]
  },
  {
   "cell_type": "markdown",
   "metadata": {
    "_uuid": "233c0ea94055a03e2e7df3e2a13d036ec963484f"
   },
   "source": [
    "### Embedding layer"
   ]
  },
  {
   "cell_type": "code",
   "execution_count": 29,
   "metadata": {
    "_uuid": "9ab488374b59e3f30f8b1ea92767d853c4846bac"
   },
   "outputs": [
    {
     "name": "stdout",
     "output_type": "stream",
     "text": [
      "(290419, 300)\n"
     ]
    }
   ],
   "source": [
    "embedding_matrix = np.zeros((vocab_size, W2V_SIZE))\n",
    "for word, i in tokenizer.word_index.items():\n",
    "  if word in w2v_model.wv:\n",
    "    embedding_matrix[i] = w2v_model.wv[word]\n",
    "print(embedding_matrix.shape)"
   ]
  },
  {
   "cell_type": "code",
   "execution_count": 30,
   "metadata": {
    "_uuid": "833279d91e4286065968237fb5f2a0c2dd4d246c"
   },
   "outputs": [],
   "source": [
    "embedding_layer = Embedding(vocab_size, W2V_SIZE, weights=[embedding_matrix], input_length=SEQUENCE_LENGTH, trainable=False)"
   ]
  },
  {
   "cell_type": "markdown",
   "metadata": {
    "_uuid": "b299ef78f94c2085942c993a2d58753a7476305a"
   },
   "source": [
    "### Build Model"
   ]
  },
  {
   "cell_type": "code",
   "execution_count": 31,
   "metadata": {
    "_uuid": "e775ef4f1b74e6412457181383c39f2df554ef3f"
   },
   "outputs": [
    {
     "name": "stdout",
     "output_type": "stream",
     "text": [
      "Model: \"sequential\"\n",
      "_________________________________________________________________\n",
      "Layer (type)                 Output Shape              Param #   \n",
      "=================================================================\n",
      "embedding (Embedding)        (None, 10, 300)           87125700  \n",
      "_________________________________________________________________\n",
      "dropout (Dropout)            (None, 10, 300)           0         \n",
      "_________________________________________________________________\n",
      "lstm (LSTM)                  (None, 100)               160400    \n",
      "_________________________________________________________________\n",
      "dense (Dense)                (None, 1)                 101       \n",
      "=================================================================\n",
      "Total params: 87,286,201\n",
      "Trainable params: 160,501\n",
      "Non-trainable params: 87,125,700\n",
      "_________________________________________________________________\n"
     ]
    }
   ],
   "source": [
    "model = Sequential()\n",
    "model.add(embedding_layer)\n",
    "model.add(Dropout(0.5))\n",
    "model.add(LSTM(100, dropout=0.2, recurrent_dropout=0.2))\n",
    "model.add(Dense(1, activation='sigmoid'))\n",
    "\n",
    "model.summary()"
   ]
  },
  {
   "cell_type": "markdown",
   "metadata": {
    "_uuid": "28d22eafd0c7d798dcf3d742bc92fb8577939e6c"
   },
   "source": [
    "### Compile model"
   ]
  },
  {
   "cell_type": "code",
   "execution_count": 32,
   "metadata": {
    "_uuid": "1331e08d590bb2aa2033706c8faca217afc0f1c3"
   },
   "outputs": [],
   "source": [
    "model.compile(loss='binary_crossentropy',\n",
    "              optimizer=\"adam\",\n",
    "              metrics=['accuracy'])"
   ]
  },
  {
   "cell_type": "markdown",
   "metadata": {
    "_uuid": "c7733127cb8b380e0c807268903bf4d03ef92542"
   },
   "source": [
    "### Callbacks"
   ]
  },
  {
   "cell_type": "code",
   "execution_count": 33,
   "metadata": {
    "_uuid": "a688df590386f5748da6fe00b01904fe6c71619e"
   },
   "outputs": [],
   "source": [
    "callbacks = [ ReduceLROnPlateau(monitor='val_loss', patience=5, cooldown=0),\n",
    "              EarlyStopping(monitor='val_acc', min_delta=1e-4, patience=5)]"
   ]
  },
  {
   "cell_type": "markdown",
   "metadata": {
    "_uuid": "8d0873633dd49179c8cae17377641b97d323ef3b"
   },
   "source": [
    "### Train"
   ]
  },
  {
   "cell_type": "code",
   "execution_count": 34,
   "metadata": {
    "_uuid": "2b659d390c6577dc5cdb6b6297934279b4e801d5"
   },
   "outputs": [
    {
     "name": "stdout",
     "output_type": "stream",
     "text": [
      "Epoch 1/8\n",
      "1125/1125 [==============================] - ETA: 0s - loss: 0.5094 - accuracy: 0.7463WARNING:tensorflow:Early stopping conditioned on metric `val_acc` which is not available. Available metrics are: loss,accuracy,val_loss,val_accuracy,lr\n"
     ]
    },
    {
     "name": "stderr",
     "output_type": "stream",
     "text": [
      "2020-07-14 18:43:44,321 : WARNING : Early stopping conditioned on metric `val_acc` which is not available. Available metrics are: loss,accuracy,val_loss,val_accuracy,lr\n"
     ]
    },
    {
     "name": "stdout",
     "output_type": "stream",
     "text": [
      "1125/1125 [==============================] - 219s 195ms/step - loss: 0.5094 - accuracy: 0.7463 - val_loss: 0.4718 - val_accuracy: 0.7735 - lr: 0.0010\n",
      "Epoch 2/8\n",
      "1125/1125 [==============================] - ETA: 0s - loss: 0.4858 - accuracy: 0.7625WARNING:tensorflow:Early stopping conditioned on metric `val_acc` which is not available. Available metrics are: loss,accuracy,val_loss,val_accuracy,lr\n"
     ]
    },
    {
     "name": "stderr",
     "output_type": "stream",
     "text": [
      "2020-07-14 18:47:23,670 : WARNING : Early stopping conditioned on metric `val_acc` which is not available. Available metrics are: loss,accuracy,val_loss,val_accuracy,lr\n"
     ]
    },
    {
     "name": "stdout",
     "output_type": "stream",
     "text": [
      "1125/1125 [==============================] - 219s 195ms/step - loss: 0.4858 - accuracy: 0.7625 - val_loss: 0.4656 - val_accuracy: 0.7789 - lr: 0.0010\n",
      "Epoch 3/8\n",
      "1125/1125 [==============================] - ETA: 0s - loss: 0.4791 - accuracy: 0.7671WARNING:tensorflow:Early stopping conditioned on metric `val_acc` which is not available. Available metrics are: loss,accuracy,val_loss,val_accuracy,lr\n"
     ]
    },
    {
     "name": "stderr",
     "output_type": "stream",
     "text": [
      "2020-07-14 18:51:00,155 : WARNING : Early stopping conditioned on metric `val_acc` which is not available. Available metrics are: loss,accuracy,val_loss,val_accuracy,lr\n"
     ]
    },
    {
     "name": "stdout",
     "output_type": "stream",
     "text": [
      "1125/1125 [==============================] - 216s 192ms/step - loss: 0.4791 - accuracy: 0.7671 - val_loss: 0.4623 - val_accuracy: 0.7799 - lr: 0.0010\n",
      "Epoch 4/8\n",
      "1125/1125 [==============================] - ETA: 0s - loss: 0.4758 - accuracy: 0.7685WARNING:tensorflow:Early stopping conditioned on metric `val_acc` which is not available. Available metrics are: loss,accuracy,val_loss,val_accuracy,lr\n"
     ]
    },
    {
     "name": "stderr",
     "output_type": "stream",
     "text": [
      "2020-07-14 18:54:37,102 : WARNING : Early stopping conditioned on metric `val_acc` which is not available. Available metrics are: loss,accuracy,val_loss,val_accuracy,lr\n"
     ]
    },
    {
     "name": "stdout",
     "output_type": "stream",
     "text": [
      "1125/1125 [==============================] - 217s 193ms/step - loss: 0.4758 - accuracy: 0.7685 - val_loss: 0.4598 - val_accuracy: 0.7821 - lr: 0.0010\n",
      "Epoch 5/8\n",
      "1125/1125 [==============================] - ETA: 0s - loss: 0.4735 - accuracy: 0.7702WARNING:tensorflow:Early stopping conditioned on metric `val_acc` which is not available. Available metrics are: loss,accuracy,val_loss,val_accuracy,lr\n"
     ]
    },
    {
     "name": "stderr",
     "output_type": "stream",
     "text": [
      "2020-07-14 18:58:18,220 : WARNING : Early stopping conditioned on metric `val_acc` which is not available. Available metrics are: loss,accuracy,val_loss,val_accuracy,lr\n"
     ]
    },
    {
     "name": "stdout",
     "output_type": "stream",
     "text": [
      "1125/1125 [==============================] - 221s 196ms/step - loss: 0.4735 - accuracy: 0.7702 - val_loss: 0.4568 - val_accuracy: 0.7835 - lr: 0.0010\n",
      "Epoch 6/8\n",
      "1125/1125 [==============================] - ETA: 0s - loss: 0.4713 - accuracy: 0.7717WARNING:tensorflow:Early stopping conditioned on metric `val_acc` which is not available. Available metrics are: loss,accuracy,val_loss,val_accuracy,lr\n"
     ]
    },
    {
     "name": "stderr",
     "output_type": "stream",
     "text": [
      "2020-07-14 19:01:55,645 : WARNING : Early stopping conditioned on metric `val_acc` which is not available. Available metrics are: loss,accuracy,val_loss,val_accuracy,lr\n"
     ]
    },
    {
     "name": "stdout",
     "output_type": "stream",
     "text": [
      "1125/1125 [==============================] - 217s 193ms/step - loss: 0.4713 - accuracy: 0.7717 - val_loss: 0.4555 - val_accuracy: 0.7843 - lr: 0.0010\n",
      "Epoch 7/8\n",
      "1125/1125 [==============================] - ETA: 0s - loss: 0.4704 - accuracy: 0.7722WARNING:tensorflow:Early stopping conditioned on metric `val_acc` which is not available. Available metrics are: loss,accuracy,val_loss,val_accuracy,lr\n"
     ]
    },
    {
     "name": "stderr",
     "output_type": "stream",
     "text": [
      "2020-07-14 19:05:33,004 : WARNING : Early stopping conditioned on metric `val_acc` which is not available. Available metrics are: loss,accuracy,val_loss,val_accuracy,lr\n"
     ]
    },
    {
     "name": "stdout",
     "output_type": "stream",
     "text": [
      "1125/1125 [==============================] - 217s 193ms/step - loss: 0.4704 - accuracy: 0.7722 - val_loss: 0.4550 - val_accuracy: 0.7842 - lr: 0.0010\n",
      "Epoch 8/8\n",
      "1125/1125 [==============================] - ETA: 0s - loss: 0.4692 - accuracy: 0.7730WARNING:tensorflow:Early stopping conditioned on metric `val_acc` which is not available. Available metrics are: loss,accuracy,val_loss,val_accuracy,lr\n"
     ]
    },
    {
     "name": "stderr",
     "output_type": "stream",
     "text": [
      "2020-07-14 19:09:12,549 : WARNING : Early stopping conditioned on metric `val_acc` which is not available. Available metrics are: loss,accuracy,val_loss,val_accuracy,lr\n"
     ]
    },
    {
     "name": "stdout",
     "output_type": "stream",
     "text": [
      "1125/1125 [==============================] - 219s 195ms/step - loss: 0.4692 - accuracy: 0.7730 - val_loss: 0.4555 - val_accuracy: 0.7856 - lr: 0.0010\n",
      "CPU times: user 3h 25min 6s, sys: 3min 41s, total: 3h 28min 48s\n",
      "Wall time: 29min 15s\n"
     ]
    }
   ],
   "source": [
    "%%time\n",
    "history = model.fit(x_train, y_train,\n",
    "                    batch_size=BATCH_SIZE,\n",
    "                    epochs=EPOCHS,\n",
    "                    validation_split=0.1,\n",
    "                    verbose=1,\n",
    "                    callbacks=callbacks)"
   ]
  },
  {
   "cell_type": "markdown",
   "metadata": {
    "_uuid": "267258196d96796ac69a7b8c466314bcf5d6ee42"
   },
   "source": [
    "### Evaluate"
   ]
  },
  {
   "cell_type": "code",
   "execution_count": 35,
   "metadata": {
    "_uuid": "98ecd8f1b8b74594c3ea775dd68a094e92458022"
   },
   "outputs": [
    {
     "name": "stdout",
     "output_type": "stream",
     "text": [
      "313/313 [==============================] - 13s 42ms/step - loss: 0.4529 - accuracy: 0.7866\n",
      "\n",
      "ACCURACY: 0.7865781188011169\n",
      "LOSS: 0.4529111385345459\n",
      "CPU times: user 1min 16s, sys: 2.05 s, total: 1min 18s\n",
      "Wall time: 13.6 s\n"
     ]
    }
   ],
   "source": [
    "%%time\n",
    "score = model.evaluate(x_test, y_test, batch_size=BATCH_SIZE)\n",
    "print()\n",
    "print(\"ACCURACY:\",score[1])\n",
    "print(\"LOSS:\",score[0])"
   ]
  },
  {
   "cell_type": "code",
   "execution_count": 39,
   "metadata": {
    "_uuid": "40c72cd1e9d6c4fd799cbba7c813765ac4039dfc"
   },
   "outputs": [
    {
     "data": {
      "image/png": "[encoded data removed]",
      "text/plain": [
       "<Figure size 432x288 with 1 Axes>"
      ]
     },
     "metadata": {
      "needs_background": "light"
     },
     "output_type": "display_data"
    },
    {
     "data": {
      "image/png": "[encoded data removed]",
      "text/plain": [
       "<Figure size 432x288 with 1 Axes>"
      ]
     },
     "metadata": {
      "needs_background": "light"
     },
     "output_type": "display_data"
    }
   ],
   "source": [
    "acc = history.history['accuracy']\n",
    "val_acc = history.history['val_accuracy']\n",
    "loss = history.history['loss']\n",
    "val_loss = history.history['val_loss']\n",
    " \n",
    "epochs = range(len(acc))\n",
    " \n",
    "plt.plot(epochs, acc, 'b', label='Training acc')\n",
    "plt.plot(epochs, val_acc, 'r', label='Validation acc')\n",
    "plt.title('Training and validation accuracy')\n",
    "plt.legend()\n",
    " \n",
    "plt.figure()\n",
    " \n",
    "plt.plot(epochs, loss, 'b', label='Training loss')\n",
    "plt.plot(epochs, val_loss, 'r', label='Validation loss')\n",
    "plt.title('Training and validation loss')\n",
    "plt.legend()\n",
    " \n",
    "plt.show()"
   ]
  },
  {
   "cell_type": "markdown",
   "metadata": {
    "_uuid": "6bdfc0f6a6af5bebc0271d83dd7432c91001409b"
   },
   "source": [
    "### Predict"
   ]
  },
  {
   "cell_type": "code",
   "execution_count": 40,
   "metadata": {
    "_uuid": "f0b0fa3d4b1bb14b3f5e3d169a369f3ebef29ae1"
   },
   "outputs": [],
   "source": [
    "def decode_sentiment(score, include_neutral=True):\n",
    "    if include_neutral:        \n",
    "        label = NEUTRAL\n",
    "        if score <= SENTIMENT_THRESHOLDS[0]:\n",
    "            label = NEGATIVE\n",
    "        elif score >= SENTIMENT_THRESHOLDS[1]:\n",
    "            label = POSITIVE\n",
    "\n",
    "        return label\n",
    "    else:\n",
    "        return NEGATIVE if score < 0.5 else POSITIVE"
   ]
  },
  {
   "cell_type": "code",
   "execution_count": 41,
   "metadata": {
    "_uuid": "ed4086d651f2f8cbed11d3c909a8873607d29a06"
   },
   "outputs": [],
   "source": [
    "def predict(text, include_neutral=True):\n",
    "    start_at = time.time()\n",
    "    # Tokenize text\n",
    "    tokenizer = Tokenizer(num_words=3000)\n",
    "    x_test = pad_sequences(tokenizer.texts_to_sequences([text]), maxlen=SEQUENCE_LENGTH)\n",
    "    # Predict\n",
    "    score = model.predict([x_test])[0]\n",
    "    # Decode sentiment\n",
    "    label = decode_sentiment(score, include_neutral=include_neutral)\n",
    "\n",
    "    return {\"label\": label, \"score\": float(score),\n",
    "       \"elapsed_time\": time.time()-start_at}  "
   ]
  },
  {
   "cell_type": "code",
   "execution_count": 42,
   "metadata": {
    "_uuid": "ca38b1e6c9b5acfed7467de2cf02a78333108872"
   },
   "outputs": [
    {
     "data": {
      "text/plain": [
       "{'label': 'POSITIVE',\n",
       " 'score': 0.978448748588562,\n",
       " 'elapsed_time': 0.2895476818084717}"
      ]
     },
     "execution_count": 42,
     "metadata": {},
     "output_type": "execute_result"
    }
   ],
   "source": [
    "predict(\"I love the music\")"
   ]
  },
  {
   "cell_type": "code",
   "execution_count": 43,
   "metadata": {
    "_uuid": "0e5fe647533be0148850de349fea6ef6f71303d1"
   },
   "outputs": [
    {
     "data": {
      "text/plain": [
       "{'label': 'NEGATIVE',\n",
       " 'score': 0.01063478086143732,\n",
       " 'elapsed_time': 0.03229236602783203}"
      ]
     },
     "execution_count": 43,
     "metadata": {},
     "output_type": "execute_result"
    }
   ],
   "source": [
    "predict(\"I hate the rain\")"
   ]
  },
  {
   "cell_type": "code",
   "execution_count": 44,
   "metadata": {
    "_uuid": "37064dffcc8920d34ccd54fac7c8b50e583a8269"
   },
   "outputs": [
    {
     "data": {
      "text/plain": [
       "{'label': 'NEGATIVE',\n",
       " 'score': 0.3732438087463379,\n",
       " 'elapsed_time': 0.031824350357055664}"
      ]
     },
     "execution_count": 44,
     "metadata": {},
     "output_type": "execute_result"
    }
   ],
   "source": [
    "predict(\"i don't know what i'm doing\")"
   ]
  },
  {
   "cell_type": "markdown",
   "metadata": {
    "_uuid": "3ee72e47f84b6dbc32e02a783de5ec1661f157e1"
   },
   "source": [
    "### Confusion Matrix"
   ]
  },
  {
   "cell_type": "code",
   "execution_count": 45,
   "metadata": {
    "_uuid": "0e920173eb05f04aecdd735bc5dff0f5be5f8d15"
   },
   "outputs": [
    {
     "name": "stdout",
     "output_type": "stream",
     "text": [
      "40/40 [==============================] - 12s 307ms/step\n",
      "CPU times: user 1min 14s, sys: 7.35 s, total: 1min 21s\n",
      "Wall time: 14.3 s\n"
     ]
    }
   ],
   "source": [
    "%%time\n",
    "y_pred_1d = []\n",
    "y_test_1d = list(df_test.target)\n",
    "scores = model.predict(x_test, verbose=1, batch_size=8000)\n",
    "y_pred_1d = [decode_sentiment(score, include_neutral=False) for score in scores]"
   ]
  },
  {
   "cell_type": "code",
   "execution_count": 46,
   "metadata": {
    "_uuid": "b3575191bb425ab871f3f41e83812ee84bb7e595"
   },
   "outputs": [],
   "source": [
    "def plot_confusion_matrix(cm, classes,\n",
    "                          title='Confusion matrix',\n",
    "                          cmap=plt.cm.Blues):\n",
    "    \"\"\"\n",
    "    This function prints and plots the confusion matrix.\n",
    "    Normalization can be applied by setting `normalize=True`.\n",
    "    \"\"\"\n",
    "\n",
    "    cm = cm.astype('float') / cm.sum(axis=1)[:, np.newaxis]\n",
    "\n",
    "    plt.imshow(cm, interpolation='nearest', cmap=cmap)\n",
    "    plt.title(title, fontsize=30)\n",
    "    plt.colorbar()\n",
    "    tick_marks = np.arange(len(classes))\n",
    "    plt.xticks(tick_marks, classes, rotation=90, fontsize=22)\n",
    "    plt.yticks(tick_marks, classes, fontsize=22)\n",
    "\n",
    "    fmt = '.2f'\n",
    "    thresh = cm.max() / 2.\n",
    "    for i, j in itertools.product(range(cm.shape[0]), range(cm.shape[1])):\n",
    "        plt.text(j, i, format(cm[i, j], fmt),\n",
    "                 horizontalalignment=\"center\",\n",
    "                 color=\"white\" if cm[i, j] > thresh else \"black\")\n",
    "\n",
    "    plt.ylabel('True label', fontsize=25)\n",
    "    plt.xlabel('Predicted label', fontsize=25)"
   ]
  },
  {
   "cell_type": "code",
   "execution_count": 47,
   "metadata": {
    "_uuid": "a57dc6f6211c144491a70f533225edfa95a2dc66"
   },
   "outputs": [
    {
     "data": {
      "image/png": "[encoded data removed]",
      "text/plain": [
       "<Figure size 864x864 with 2 Axes>"
      ]
     },
     "metadata": {
      "needs_background": "light"
     },
     "output_type": "display_data"
    },
    {
     "name": "stdout",
     "output_type": "stream",
     "text": [
      "CPU times: user 1.08 s, sys: 20.3 ms, total: 1.1 s\n",
      "Wall time: 2.06 s\n"
     ]
    }
   ],
   "source": [
    "%%time\n",
    "\n",
    "cnf_matrix = confusion_matrix(y_test_1d, y_pred_1d)\n",
    "plt.figure(figsize=(12,12))\n",
    "plot_confusion_matrix(cnf_matrix, classes=df_train.target.unique(), title=\"Confusion matrix\")\n",
    "plt.show()"
   ]
  },
  {
   "cell_type": "markdown",
   "metadata": {
    "_uuid": "e23b957348dcc084249d3cc7538b972da471c2cd"
   },
   "source": [
    "### Classification Report"
   ]
  },
  {
   "cell_type": "code",
   "execution_count": 48,
   "metadata": {
    "_uuid": "a7fe05b7caa1c984ff1deb0be2f7c6bc043df9f5"
   },
   "outputs": [
    {
     "name": "stdout",
     "output_type": "stream",
     "text": [
      "              precision    recall  f1-score   support\n",
      "\n",
      "    NEGATIVE       0.79      0.77      0.78    159494\n",
      "    POSITIVE       0.78      0.80      0.79    160506\n",
      "\n",
      "    accuracy                           0.79    320000\n",
      "   macro avg       0.79      0.79      0.79    320000\n",
      "weighted avg       0.79      0.79      0.79    320000\n",
      "\n"
     ]
    }
   ],
   "source": [
    "print(classification_report(y_test_1d, y_pred_1d))"
   ]
  },
  {
   "cell_type": "markdown",
   "metadata": {
    "_uuid": "4eb300f0c6693a618587c7dcf32f77f5416cbfb9"
   },
   "source": [
    "### Accuracy Score"
   ]
  },
  {
   "cell_type": "code",
   "execution_count": 49,
   "metadata": {
    "_uuid": "5cf76e6e09f8a60ed25947932b94c772eda44d23"
   },
   "outputs": [
    {
     "data": {
      "text/plain": [
       "0.786578125"
      ]
     },
     "execution_count": 49,
     "metadata": {},
     "output_type": "execute_result"
    }
   ],
   "source": [
    "accuracy_score(y_test_1d, y_pred_1d)"
   ]
  },
  {
   "cell_type": "markdown",
   "metadata": {
    "_uuid": "4f014c32f3833db282e1a075c526604f34e3158c"
   },
   "source": [
    "### Save model"
   ]
  },
  {
   "cell_type": "code",
   "execution_count": 50,
   "metadata": {
    "_uuid": "3b2b3ad5b592977b404acfa1c9ad303a62837255"
   },
   "outputs": [
    {
     "name": "stderr",
     "output_type": "stream",
     "text": [
      "2020-07-14 19:14:05,792 : INFO : saving Word2Vec object under model.w2v, separately None\n",
      "2020-07-14 19:14:06,640 : INFO : not storing attribute vectors_norm\n",
      "2020-07-14 19:14:06,680 : INFO : not storing attribute cum_table\n",
      "2020-07-14 19:15:08,956 : INFO : saved model.w2v\n"
     ]
    }
   ],
   "source": [
    "model.save(KERAS_MODEL)\n",
    "w2v_model.save(WORD2VEC_MODEL)\n",
    "pickle.dump(tokenizer, open(TOKENIZER_MODEL, \"wb\"), protocol=0)\n",
    "pickle.dump(encoder, open(ENCODER_MODEL, \"wb\"), protocol=0)"
   ]
  },
  {
   "cell_type": "code",
   "execution_count": null,
   "metadata": {
    "_uuid": "cc363c54782894757f5ea8820c6a170f2e16ef93"
   },
   "outputs": [],
   "source": []
  }
 ],
 "metadata": {
  "kernelspec": {
   "display_name": "Python 3",
   "language": "python",
   "name": "python3"
  },
  "language_info": {
   "codemirror_mode": {
    "name": "ipython",
    "version": 3
   },
   "file_extension": ".py",
   "mimetype": "text/x-python",
   "name": "python",
   "nbconvert_exporter": "python",
   "pygments_lexer": "ipython3",
   "version": "3.7.3"
  }
 },
 "nbformat": 4,
 "nbformat_minor": 1
}
